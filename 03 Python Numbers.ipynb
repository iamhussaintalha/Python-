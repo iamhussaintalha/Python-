{
 "cells": [
  {
   "cell_type": "markdown",
   "id": "2736825d",
   "metadata": {},
   "source": [
    "<h1 align=\"center\">Numbers</h1>"
   ]
  },
  {
   "cell_type": "markdown",
   "id": "0356606a",
   "metadata": {},
   "source": [
    "## Table of Contents\n",
    "1. Numeric data types (Numbers)\n",
    "2. Issues with Float data type\n",
    "3. Conversiton / Type Casting"
   ]
  },
  {
   "cell_type": "markdown",
   "id": "f8938a24",
   "metadata": {},
   "source": [
    "## 1. Numeric Data Types\r\n",
    "\r\n",
    "- **Numeric Types**: Created by numeric literals or results from arithmetic operations. They are immutable.\r\n",
    "\r\n",
    "  - **Integers (`int`)**: Positive or negative whole numbers without decimal points. Python 3.x has a single `int` type with unlimited range (limited by memory).\r\n",
    "\r\n",
    "  - **Floating Point Numbers (`float`)**: Decimal numbers with double precision, ranging from approximately -1.7977e+308 to 1.7977e+308. They can also be expressed in scientific notation (e.g., `1e+2` for 100).\r\n",
    "\r\n",
    "  - **Complex Numbers (`complex`)**: Represented as a pair of floating point numbers (real and imaginary parts).\r\n",
    "\r\n",
    "  - **Boolean (`bool`)**: Represents `True` or `False`. Used for logical operations and compred later):\r\n",
    "  - **Sequences**:\r\n",
    "    - Immutable: Strings, Tuples, Range, Bytes\r\n",
    "    - Mutable: Lists\r\n",
    "\r\n",
    "  - **Set Types**: Sets, Frozen sets\r\n",
    "\r\n",
    "  - **Mappings**: Dictionaries\r\n",
    "\r\n",
    "  - **Callable Types**:\r\n",
    "    - Built-in functions (e.g., `print()`, `len()`)\r\n",
    "    - Built-in methods (e.g., `mystring.split()`, `mylist.append()`)\r\n",
    "    - User-defined functions\r\n",
    "    - Modules\r\n",
    "    - Classes\r\n",
    "    - Instance methods\r\n",
    "    - Generator functions\r\n",
    "    - Coroutine functions\r\n"
   ]
  },
  {
   "cell_type": "code",
   "execution_count": 1,
   "id": "6c0e10f7",
   "metadata": {},
   "outputs": [
    {
     "name": "stdout",
     "output_type": "stream",
     "text": [
      "<class 'int'>\n",
      "<class 'float'>\n",
      "<class 'complex'>\n",
      "<class 'bool'>\n"
     ]
    }
   ],
   "source": [
    "w = 10\n",
    "x = 20.5\n",
    "y = complex(3, 2)  \n",
    "y = 3 + 2j\n",
    "z = True\n",
    "print(type(w))\n",
    "print(type(x))\n",
    "print(type(y))\n",
    "print(type(z))"
   ]
  },
  {
   "cell_type": "code",
   "execution_count": 2,
   "id": "21aa6467",
   "metadata": {},
   "outputs": [
    {
     "name": "stdout",
     "output_type": "stream",
     "text": [
      "True\n",
      "<class 'bool'>\n"
     ]
    }
   ],
   "source": [
    "# Example of Boolean data type \n",
    "y = 10 < 100\n",
    "print(y)\n",
    "print(type(y))"
   ]
  },
  {
   "cell_type": "code",
   "execution_count": 3,
   "id": "16d3f182",
   "metadata": {},
   "outputs": [
    {
     "name": "stdout",
     "output_type": "stream",
     "text": [
      "x is False\n",
      "y is False\n"
     ]
    }
   ],
   "source": [
    "\"\"\"\n",
    "boolean data type in Python?\n",
    "In Python, True represents the value as 1 and False as 0. \n",
    "\"\"\"\n",
    "x = (-1 == True)\n",
    "y = (1 == False)\n",
    "print(\"x is\", x)\n",
    "print(\"y is\", y)"
   ]
  },
  {
   "cell_type": "code",
   "execution_count": 4,
   "id": "dad90945",
   "metadata": {},
   "outputs": [
    {
     "name": "stdout",
     "output_type": "stream",
     "text": [
      "a: 10\n",
      "b: 15\n"
     ]
    }
   ],
   "source": [
    "# Booleans are automatically converted to `int`s when used in arithmetic operations. \n",
    "# `True` is converted to `1` and `False` is converted to `0`.\n",
    "a = True + 9\n",
    "b = False + 15\n",
    "\n",
    "print(\"a:\", a)\n",
    "print(\"b:\", b)"
   ]
  },
  {
   "cell_type": "markdown",
   "id": "1d37881f",
   "metadata": {},
   "source": [
    "Any value in Python can be converted to a Boolean using the `bool` function. The following values evaluate to `False` (*falsy* values):\r\n",
    "\r\n",
    "1. `False`\r\n",
    "2. `0` (integer)\r\n",
    "3. `0.0` (float)\r\n",
    "4. `None`\r\n",
    "5. `\"\"` (empty string)\r\n",
    "6. `[]` (empty list)\r\n",
    "7. `()` (empty tuple)\r\n",
    "8. `{}` (empty dictionary)\r\n",
    "9. `set()` (empty set)\r\n",
    "10. `range(0)` (empty range)\r\n",
    "\r\n",
    "All other values evaluate to `True` (*truthy* values).\r\n",
    "\r\n",
    "**None**: Represents the absence of a value. It is of type `NoneType` and is often used to indicate a variable that will be assigned later or as a function return value when no value is returned.\r\n"
   ]
  },
  {
   "cell_type": "code",
   "execution_count": 5,
   "id": "790ea70b",
   "metadata": {},
   "outputs": [
    {
     "data": {
      "text/plain": [
       "False"
      ]
     },
     "execution_count": 5,
     "metadata": {},
     "output_type": "execute_result"
    }
   ],
   "source": [
    "bool(0)"
   ]
  },
  {
   "cell_type": "code",
   "execution_count": 6,
   "id": "523e77fd",
   "metadata": {},
   "outputs": [
    {
     "data": {
      "text/plain": [
       "False"
      ]
     },
     "execution_count": 6,
     "metadata": {},
     "output_type": "execute_result"
    }
   ],
   "source": [
    "bool(0.0)"
   ]
  },
  {
   "cell_type": "code",
   "execution_count": 7,
   "id": "608bb8c8",
   "metadata": {},
   "outputs": [
    {
     "data": {
      "text/plain": [
       "False"
      ]
     },
     "execution_count": 7,
     "metadata": {},
     "output_type": "execute_result"
    }
   ],
   "source": [
    "bool(None)"
   ]
  },
  {
   "cell_type": "code",
   "execution_count": 8,
   "id": "a054f711",
   "metadata": {},
   "outputs": [
    {
     "data": {
      "text/plain": [
       "False"
      ]
     },
     "execution_count": 8,
     "metadata": {},
     "output_type": "execute_result"
    }
   ],
   "source": [
    "bool(\"\")"
   ]
  },
  {
   "cell_type": "code",
   "execution_count": 9,
   "id": "fcdc71a5",
   "metadata": {},
   "outputs": [
    {
     "data": {
      "text/plain": [
       "False"
      ]
     },
     "execution_count": 9,
     "metadata": {},
     "output_type": "execute_result"
    }
   ],
   "source": [
    "bool([])"
   ]
  },
  {
   "cell_type": "code",
   "execution_count": 10,
   "id": "0ad21ab2",
   "metadata": {},
   "outputs": [],
   "source": [
    "var1 = None"
   ]
  },
  {
   "cell_type": "code",
   "execution_count": 11,
   "id": "daee6df3",
   "metadata": {},
   "outputs": [
    {
     "data": {
      "text/plain": [
       "NoneType"
      ]
     },
     "execution_count": 11,
     "metadata": {},
     "output_type": "execute_result"
    }
   ],
   "source": [
    "type(var1)"
   ]
  },
  {
   "cell_type": "markdown",
   "id": "b89bc134",
   "metadata": {},
   "source": [
    "**Use of Complex Numbers:** \n",
    ">- Complex numbers are mostly used when you are dealing with electronics, dynamics, and control systems.\n",
    ">- In electronics, the state of a circuit element is defined by the voltage (V) and the current (I). Circuit elements can also have a capacitance (c) and inductance (L) that describes the circuit's tendency to resist changes in V and I. \n",
    ">- Rather than describing the circuit element's state by V and I, it can be described as `z = V + Ij`. \n",
    ">- The laws of electricity can then be expressed using the addition and multiplication of complex umbers."
   ]
  },
  {
   "cell_type": "code",
   "execution_count": 12,
   "id": "5a737b4d",
   "metadata": {
    "scrolled": true
   },
   "outputs": [
    {
     "name": "stdout",
     "output_type": "stream",
     "text": [
      "(3+4j)\n",
      "(1-2j)\n"
     ]
    }
   ],
   "source": [
    "# format to declare a comples number: z = complex(real_part, imaginary_part)\n",
    "z1 = complex(3, 4)  # 3 + 4j\n",
    "z2 = complex(1, -2) # 1 - 2j\n",
    "print(z1)\n",
    "print(z2)"
   ]
  },
  {
   "cell_type": "code",
   "execution_count": 13,
   "id": "eb9904b1",
   "metadata": {},
   "outputs": [
    {
     "data": {
      "text/plain": [
       "(4+2j)"
      ]
     },
     "execution_count": 13,
     "metadata": {},
     "output_type": "execute_result"
    }
   ],
   "source": [
    "result = z1 + z2\n",
    "result"
   ]
  },
  {
   "cell_type": "markdown",
   "id": "10f47a7e",
   "metadata": {},
   "source": [
    "## 2. Issues with Float data types"
   ]
  },
  {
   "cell_type": "code",
   "execution_count": 14,
   "id": "d20c1eea",
   "metadata": {},
   "outputs": [
    {
     "data": {
      "text/plain": [
       "(3.3, 3.0, False)"
      ]
     },
     "execution_count": 14,
     "metadata": {},
     "output_type": "execute_result"
    }
   ],
   "source": [
    "'''\n",
    "Floating-point numbers are stored in computer hardware in IEEE-754 format\n",
    "Be watchful while performing various operations on floating point numbers\n",
    "'''\n",
    "a = 3.3\n",
    "b = 1.0 + 2.0\n",
    "c = (a == b)\n",
    "a, b, c"
   ]
  },
  {
   "cell_type": "code",
   "execution_count": 15,
   "id": "728acfa8",
   "metadata": {},
   "outputs": [
    {
     "data": {
      "text/plain": [
       "3.3"
      ]
     },
     "execution_count": 15,
     "metadata": {},
     "output_type": "execute_result"
    }
   ],
   "source": [
    "a"
   ]
  },
  {
   "cell_type": "code",
   "execution_count": 16,
   "id": "a25db0e1",
   "metadata": {},
   "outputs": [
    {
     "data": {
      "text/plain": [
       "3.0"
      ]
     },
     "execution_count": 16,
     "metadata": {},
     "output_type": "execute_result"
    }
   ],
   "source": [
    "b"
   ]
  },
  {
   "cell_type": "markdown",
   "id": "9af36f0d",
   "metadata": {},
   "source": [
    "## 3. Conversion/Type Casting\r\n",
    "\r\n",
    "- **Implicit Type Conversion**: During arithmetic operations, integers are automatically converted to `float` if any operand is a `float`. The division operator `/` always returns a `float`. Use `//` for integer division.\r\n",
    "\r\n",
    "- **Explicit Type Conversion**: Also known as type casting, this is the process of converting an object from one data type to another.\r\n"
   ]
  },
  {
   "cell_type": "markdown",
   "id": "e2c45a9e",
   "metadata": {},
   "source": [
    "### a. Implicit Type Conversion"
   ]
  },
  {
   "cell_type": "code",
   "execution_count": 17,
   "id": "e9430936",
   "metadata": {},
   "outputs": [
    {
     "data": {
      "text/plain": [
       "(int, float)"
      ]
     },
     "execution_count": 17,
     "metadata": {},
     "output_type": "execute_result"
    }
   ],
   "source": [
    "a = 2 + 3\n",
    "b = 2 + 3.0\n",
    "type(a), type(b)"
   ]
  },
  {
   "cell_type": "code",
   "execution_count": 18,
   "id": "729b1d66",
   "metadata": {},
   "outputs": [
    {
     "data": {
      "text/plain": [
       "(int, float)"
      ]
     },
     "execution_count": 18,
     "metadata": {},
     "output_type": "execute_result"
    }
   ],
   "source": [
    "a = 3 * 5\n",
    "b = 3 * 5.0\n",
    "type(a), type(b)"
   ]
  },
  {
   "cell_type": "code",
   "execution_count": 19,
   "id": "5bae316c",
   "metadata": {},
   "outputs": [
    {
     "data": {
      "text/plain": [
       "(float, float)"
      ]
     },
     "execution_count": 19,
     "metadata": {},
     "output_type": "execute_result"
    }
   ],
   "source": [
    "a = 4/2\n",
    "b = 4/2.0\n",
    "type(a), type(b)"
   ]
  },
  {
   "cell_type": "markdown",
   "id": "c04d6b15",
   "metadata": {},
   "source": [
    "### Explicit Type Conversion (Type Casting)"
   ]
  },
  {
   "cell_type": "markdown",
   "id": "a192930f",
   "metadata": {},
   "source": [
    "####  Convert to Integer using ` int (a)`  function"
   ]
  },
  {
   "cell_type": "code",
   "execution_count": 20,
   "id": "3df997bc",
   "metadata": {},
   "outputs": [
    {
     "data": {
      "text/plain": [
       "(str, '21')"
      ]
     },
     "execution_count": 20,
     "metadata": {},
     "output_type": "execute_result"
    }
   ],
   "source": [
    "x = '21'\n",
    "type(x), x"
   ]
  },
  {
   "cell_type": "code",
   "execution_count": 21,
   "id": "ee452e3e",
   "metadata": {},
   "outputs": [
    {
     "data": {
      "text/plain": [
       "(int, 21)"
      ]
     },
     "execution_count": 21,
     "metadata": {},
     "output_type": "execute_result"
    }
   ],
   "source": [
    "y = int(x)\n",
    "type(y), y"
   ]
  },
  {
   "cell_type": "code",
   "execution_count": 22,
   "id": "be8e4b6a",
   "metadata": {},
   "outputs": [
    {
     "data": {
      "text/plain": [
       "(bool, True)"
      ]
     },
     "execution_count": 22,
     "metadata": {},
     "output_type": "execute_result"
    }
   ],
   "source": [
    "z = bool(-5)\n",
    "type(z), z"
   ]
  },
  {
   "cell_type": "code",
   "execution_count": 23,
   "id": "13349a50",
   "metadata": {},
   "outputs": [
    {
     "name": "stdout",
     "output_type": "stream",
     "text": [
      "0x15\n",
      "0o25\n"
     ]
    }
   ],
   "source": [
    "# You can also use hex() and oct() functions\n",
    "print(hex(21))\n",
    "print(oct(21))"
   ]
  },
  {
   "cell_type": "markdown",
   "id": "cf69b598",
   "metadata": {},
   "source": [
    "####  Convert to Float  using  `float (a)` function"
   ]
  },
  {
   "cell_type": "code",
   "execution_count": 24,
   "id": "8e51ba53",
   "metadata": {},
   "outputs": [
    {
     "data": {
      "text/plain": [
       "(int, 54)"
      ]
     },
     "execution_count": 24,
     "metadata": {},
     "output_type": "execute_result"
    }
   ],
   "source": [
    "a = 54\n",
    "type(a), a"
   ]
  },
  {
   "cell_type": "code",
   "execution_count": 25,
   "id": "038b8ac9",
   "metadata": {},
   "outputs": [
    {
     "data": {
      "text/plain": [
       "(float, 54.0)"
      ]
     },
     "execution_count": 25,
     "metadata": {},
     "output_type": "execute_result"
    }
   ],
   "source": [
    "b = float(a)\n",
    "type(b), b"
   ]
  },
  {
   "cell_type": "code",
   "execution_count": 26,
   "id": "0d38acc2",
   "metadata": {},
   "outputs": [
    {
     "data": {
      "text/plain": [
       "(140724017250392, 2291808206352)"
      ]
     },
     "execution_count": 26,
     "metadata": {},
     "output_type": "execute_result"
    }
   ],
   "source": [
    "# Note that a and be are two different objects\n",
    "id(a), id(b)"
   ]
  },
  {
   "cell_type": "markdown",
   "id": "b900a11c",
   "metadata": {},
   "source": [
    "####  Convert an Integer to a String  using  `str (a)`  function"
   ]
  },
  {
   "cell_type": "code",
   "execution_count": 27,
   "id": "98952c0a",
   "metadata": {},
   "outputs": [
    {
     "data": {
      "text/plain": [
       "(int, 341)"
      ]
     },
     "execution_count": 27,
     "metadata": {},
     "output_type": "execute_result"
    }
   ],
   "source": [
    "num = 341\n",
    "type(num), num"
   ]
  },
  {
   "cell_type": "code",
   "execution_count": 28,
   "id": "9fa0b140",
   "metadata": {},
   "outputs": [
    {
     "data": {
      "text/plain": [
       "(str, '341')"
      ]
     },
     "execution_count": 28,
     "metadata": {},
     "output_type": "execute_result"
    }
   ],
   "source": [
    "mystr = str(num)\n",
    "type(mystr), mystr"
   ]
  },
  {
   "cell_type": "markdown",
   "id": "25ff32a0",
   "metadata": {},
   "source": [
    "####  Convert two Floats to Complex Data type  using  `complex (a, b)`  function"
   ]
  },
  {
   "cell_type": "code",
   "execution_count": 29,
   "id": "ff4da2ff",
   "metadata": {},
   "outputs": [
    {
     "data": {
      "text/plain": [
       "(complex, (2.6+3.2j))"
      ]
     },
     "execution_count": 29,
     "metadata": {},
     "output_type": "execute_result"
    }
   ],
   "source": [
    "a = 2.6\n",
    "b = 3.2\n",
    "x = complex(a,b)\n",
    "type(x), x"
   ]
  },
  {
   "cell_type": "markdown",
   "id": "d6f6886b",
   "metadata": {},
   "source": [
    "## Check your Concepts\n",
    "\n",
    "Try answering the following questions to test your understanding of the topics covered in this notebook:\n",
    "\n",
    "1. What are the built-in data types in Python?\n",
    "2. What is a primitive data type? \n",
    "3. What are the primitive data types available in Python?\n",
    "4. What is a data structure or container data type?\n",
    "5. What kind of data does the Integer data type represent?\n",
    "6. What are the numerical limits of the integer data type?\n",
    "7. What kind of data does the float data type represent?\n",
    "8. How does Python decide if a given number is a float or an integer?\n",
    "9. How can you create a variable which stores a whole number, e.g., 4 but has the float data type?\n",
    "10. How do you create floats representing very large (e.g., 6.023 x 10^23) or very small numbers (0.000000123)?\n",
    "11. What does the expression `23e-12` represent?\n",
    "12. Can floats be used to store numbers with unlimited precision?\n",
    "13. What are the differences between integers and floats?\n",
    "14. How do you convert an integer to a float?\n",
    "15. How do you convert a float to an integer?\n",
    "16. What is the result obtained when you convert 1.99 to an integer?\n",
    "17. What are the data types of the results of the division operators `/` and `//`?\n",
    "18. What kind of data does the Boolean data type represent?\n",
    "19. Which types of Python operators return booleans as a result?\n",
    "20. What happens if you try to use a boolean in arithmetic operation?\n",
    "21. How can any value in Python be covered to a boolean?\n",
    "22. What are truthy and falsy values?\n",
    "23. What are the values in Python that evaluate to False?\n",
    "24. Give some examples of values that evaluate to True.\n",
    "25. What kind of data does the None data type represent?\n",
    "26. What is the purpose of None?"
   ]
  },
  {
   "cell_type": "code",
   "execution_count": null,
   "id": "e1b1cda5-b591-492b-a53d-b261e077a3ce",
   "metadata": {},
   "outputs": [],
   "source": []
  }
 ],
 "metadata": {
  "kernelspec": {
   "display_name": "Python 3 (ipykernel)",
   "language": "python",
   "name": "python3"
  },
  "language_info": {
   "codemirror_mode": {
    "name": "ipython",
    "version": 3
   },
   "file_extension": ".py",
   "mimetype": "text/x-python",
   "name": "python",
   "nbconvert_exporter": "python",
   "pygments_lexer": "ipython3",
   "version": "3.12.4"
  }
 },
 "nbformat": 4,
 "nbformat_minor": 5
}
