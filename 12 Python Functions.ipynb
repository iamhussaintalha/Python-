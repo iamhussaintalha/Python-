{
 "cells": [
  {
   "cell_type": "markdown",
   "id": "007946c5",
   "metadata": {},
   "source": [
    "<h1 align=\"center\">Functions</h1>"
   ]
  },
  {
   "cell_type": "markdown",
   "id": "4377d061",
   "metadata": {},
   "source": [
    "## Table of Contents\n",
    "1. What are functions in Python \n",
    "2. User Defined Functions in Python\n",
    "    - Basic Examples\n",
    "    - Docstring inside a function\n",
    "    - Passing arguments and Returning value from a function\n",
    "    - Pass by value vs Pass by reference\n",
    "3. Arguments of a Python function \n",
    "    - Positional/Required arguments\n",
    "    - Default arguments\n",
    "    - Keyword arguments\n",
    "    - Variable length arguments\n",
    "    - Arbitrary key word arguments\n",
    "4. Passing Command Line Arguments in Python\n",
    "5. Nested functions\n",
    "6. Understanding Scope in Python\n",
    "    - Local scope\n",
    "    - Enclosing scope\n",
    "    - Global scope\n",
    "    - Built-in Scope"
   ]
  },
  {
   "cell_type": "markdown",
   "id": "f7fefd5f",
   "metadata": {},
   "source": [
    "## 1. What are Functions in Python\r\n",
    "\r\n",
    "- **Definition**: Functions are named groups of statements that perform specific tasks.\r\n",
    "- **Usage**: They execute when called, allowing code to be broken into modular, reusable chunks.\r\n",
    "- **Parameters**: Functions can take data/parameters, perform operations, and return results.\r\n",
    "- **Types**:\r\n",
    "  - **Functions**: Created with function definitions and called using `func(arguments)`.\r\n",
    "    - **Built-in Functions**: Part of Python's standard library (e.g., `print()`, `len()`).\r\n",
    "    - **User-Defined Functions**: Defined by the programmer (can be anonymous).\r\n",
    "  - **Methods**: Functions called using attribute notation, `object.method(arguments)`.\r\n",
    "    - **Built-in Methods**\r\n",
    "    - **Class Instance Methods**\r\n"
   ]
  },
  {
   "cell_type": "markdown",
   "id": "0ca4bb39",
   "metadata": {},
   "source": [
    "## 2. How to Create User Defined Functions in Python"
   ]
  },
  {
   "cell_type": "markdown",
   "id": "efe504e4",
   "metadata": {},
   "source": [
    "### a. Basic Example of a Python Function"
   ]
  },
  {
   "cell_type": "code",
   "execution_count": 1,
   "id": "4d10c27f",
   "metadata": {},
   "outputs": [
    {
     "data": {
      "text/plain": [
       "4"
      ]
     },
     "execution_count": 1,
     "metadata": {},
     "output_type": "execute_result"
    }
   ],
   "source": [
    "def mylen(a):\n",
    "    count = 0\n",
    "    for a in a:\n",
    "        count = count +1\n",
    "    return count\n",
    "\n",
    "\n",
    "str = [1 ,2 ,6, 8]\n",
    "mylen(str)"
   ]
  },
  {
   "cell_type": "code",
   "execution_count": 2,
   "id": "fd42b55e",
   "metadata": {},
   "outputs": [
    {
     "name": "stdout",
     "output_type": "stream",
     "text": [
      "24\n"
     ]
    }
   ],
   "source": [
    "v = \"Hello World, this is fun\"\n",
    "rv = mylen(v)\n",
    "print(rv)"
   ]
  },
  {
   "cell_type": "code",
   "execution_count": 3,
   "id": "fa813286",
   "metadata": {},
   "outputs": [
    {
     "name": "stdout",
     "output_type": "stream",
     "text": [
      "5\n"
     ]
    }
   ],
   "source": [
    "def func(a, b):\n",
    "    c = a + b\n",
    "    return c\n",
    "    \n",
    "rv = func(2, 3)\n",
    "print(rv)"
   ]
  },
  {
   "cell_type": "code",
   "execution_count": 4,
   "id": "ae8c5e02",
   "metadata": {},
   "outputs": [
    {
     "name": "stdin",
     "output_type": "stream",
     "text": [
      "Enter a number: 5\n"
     ]
    },
    {
     "name": "stdout",
     "output_type": "stream",
     "text": [
      "7\n"
     ]
    }
   ],
   "source": [
    "def func(a):\n",
    "    count = 2\n",
    "    count = count + a\n",
    "    return count\n",
    "\n",
    "b = int(input(\"Enter a number:\"))\n",
    "c = func(b)\n",
    "print(c)"
   ]
  },
  {
   "cell_type": "code",
   "execution_count": 5,
   "id": "c4751b3d",
   "metadata": {},
   "outputs": [
    {
     "name": "stdout",
     "output_type": "stream",
     "text": [
      "Functions in Python\n"
     ]
    }
   ],
   "source": [
    "#defining a function\n",
    "def func1():\n",
    "    print(\"Functions in Python\")\n",
    "\n",
    "#calling a function (A function must be defined before it is called)\n",
    "func1()"
   ]
  },
  {
   "cell_type": "code",
   "execution_count": 6,
   "id": "8e1296a3",
   "metadata": {},
   "outputs": [
    {
     "name": "stdout",
     "output_type": "stream",
     "text": [
      "Functions in Python\n"
     ]
    }
   ],
   "source": [
    "func1()"
   ]
  },
  {
   "cell_type": "markdown",
   "id": "6b55cae4",
   "metadata": {},
   "source": [
    "### b. Docstring inside a Function\n",
    "- We can add some documentation within our function using a *docstring*. \n",
    "- A docstring is simply a string that appears as the first statement within the function body, and is used by the `help` function. \n",
    "- A good docstring describes what the function does, and provides some explanation about the arguments."
   ]
  },
  {
   "cell_type": "code",
   "execution_count": 7,
   "id": "c7865185",
   "metadata": {},
   "outputs": [
    {
     "name": "stdout",
     "output_type": "stream",
     "text": [
      "Welcome to Learning Functions in Python\n"
     ]
    }
   ],
   "source": [
    "#defining a function\n",
    "def func1():\n",
    "    \"\"\" This is a docstring that describes what the function do\n",
    "        It simply display a welcome message\"\"\"\n",
    "    print(\"Welcome to Learning Functions in Python\")\n",
    "\n",
    "#calling a function\n",
    "func1()"
   ]
  },
  {
   "cell_type": "code",
   "execution_count": 8,
   "id": "5d7e47da",
   "metadata": {},
   "outputs": [
    {
     "data": {
      "text/plain": [
       "' This is a docstring that describes what the function do\\n        It simply display a welcome message'"
      ]
     },
     "execution_count": 8,
     "metadata": {},
     "output_type": "execute_result"
    }
   ],
   "source": [
    "# We can access the docstring using the built-in command __doc__. \n",
    "# Any identifier that starts with a double underscore is a Python builtin command\n",
    "func1.__doc__"
   ]
  },
  {
   "cell_type": "markdown",
   "id": "47ba9a3d",
   "metadata": {},
   "source": [
    "### c. Returning Values from a Function\r\n",
    "\r\n",
    "- **`return` Statement**: Ends function execution and sends the result back to the caller. It consists of the `return` keyword followed by an optional value.\r\n",
    "- **Post-`return`**: Statements after `return` are not executed.\r\n",
    "- **Return Types**: Functions can return numbers, collections (list, tuple, dictionary, set), user-defined objects, classes, functions, and modules.\r\n",
    "- **Omitting Return**: Using `return` without a value or omitting `return` returns `None`.\r\n",
    "- **Multiple Values**: Return multiple values by separating them with commas.\r\n"
   ]
  },
  {
   "cell_type": "code",
   "execution_count": 10,
   "id": "a370f371",
   "metadata": {},
   "outputs": [
    {
     "name": "stdout",
     "output_type": "stream",
     "text": [
      "5 + 7 =  12\n"
     ]
    }
   ],
   "source": [
    "#defining a function\n",
    "def mysum2():  \n",
    "    total = 5 + 7\n",
    "    return total\n",
    "\n",
    "#calling a function\n",
    "rv = mysum2()\n",
    "print(\"5 + 7 = \", rv)\n"
   ]
  },
  {
   "cell_type": "code",
   "execution_count": 11,
   "id": "74a7838e",
   "metadata": {},
   "outputs": [
    {
     "name": "stdout",
     "output_type": "stream",
     "text": [
      "hello\n",
      "bye\n",
      "('hello', 'bye')\n"
     ]
    }
   ],
   "source": [
    "#Returning multiple values from a function\n",
    "def func():  \n",
    "    str1 = \"hello\"\n",
    "    str2= \"bye\"\n",
    "    return str1, str2\n",
    "\n",
    "#calling a function\n",
    "rv1, rv2 = func()\n",
    "print(rv1)\n",
    "print(rv2)\n",
    "\n",
    "rv = func()\n",
    "print(rv)"
   ]
  },
  {
   "cell_type": "markdown",
   "id": "ab9d1b5e",
   "metadata": {},
   "source": [
    "### d. Arguments to a Python Function\r\n",
    "\r\n",
    "- **Arguments**: Functions can accept zero or more inputs (arguments/parameters) to perform operations on different values and return results.\r\n",
    "- **Required Arguments**: Must be provided in the correct number as expected by the function.\r\n",
    "- **Positional Arguments**: Must be passed in the correct order to get the desired result (e.g., `subtract(a, b)`).\r\n",
    "- **Limit**: The number of required arguments is limited by the available process stack frame.\r\n"
   ]
  },
  {
   "cell_type": "code",
   "execution_count": 12,
   "id": "8e8201b9",
   "metadata": {},
   "outputs": [
    {
     "name": "stdout",
     "output_type": "stream",
     "text": [
      "10  +  15  =  25\n"
     ]
    }
   ],
   "source": [
    "# A function that is passed two numbers and it returns their sum\n",
    "def mysum3(a, b):  \n",
    "    \"\"\"Calculates and return the sum of two numbers.\n",
    "    Arguments:\n",
    "       a - First number \n",
    "       b - Second number\n",
    "    \"\"\"\n",
    "    total = a + b\n",
    "    return total\n",
    "\n",
    "#calling a function\n",
    "a = 10 \n",
    "b = 15\n",
    "rv = mysum3(a, b)\n",
    "print(a, \" + \", b, \" = \", rv)"
   ]
  },
  {
   "cell_type": "code",
   "execution_count": 14,
   "id": "b39cbe0a",
   "metadata": {},
   "outputs": [
    {
     "name": "stdout",
     "output_type": "stream",
     "text": [
      "Sum of Square of List elements are:  14\n",
      "Return type =  <class 'int'>\n"
     ]
    }
   ],
   "source": [
    "# A function that receives a list and returns a Number data type containing sum of squares of its elements \n",
    "def sumofsquares(l1):\n",
    "    rv = 0\n",
    "    for i in l1:\n",
    "        rv = rv + i*i\n",
    "    return rv\n",
    "\n",
    "#calling a function\n",
    "list1 = [1, 2, 3] \n",
    "rv = sumofsquares(list1)\n",
    "\n",
    "print(\"Sum of Square of List elements are: \", rv)\n",
    "print(\"Return type = \", type(rv))"
   ]
  },
  {
   "cell_type": "code",
   "execution_count": 15,
   "id": "6e1d5603",
   "metadata": {},
   "outputs": [
    {
     "name": "stdout",
     "output_type": "stream",
     "text": [
      "<class 'list'>\n"
     ]
    }
   ],
   "source": [
    "# A function that receives a list and returns a List data type containing sub-list containing even numbers\n",
    "def filter_even(number_list):\n",
    "    result_list = []\n",
    "    for number in number_list:\n",
    "        if (number % 2 == 0):\n",
    "            result_list.append(number)\n",
    "    return result_list\n",
    "\n",
    "even_list = filter_even([1, 2, 3, 4, 5, 6, 7])\n",
    "even_list\n",
    "print(type(even_list))"
   ]
  },
  {
   "cell_type": "markdown",
   "id": "a774b7e0",
   "metadata": {},
   "source": [
    "### e.  Pass by value vs Pass by reference\n",
    "- All arguments (less intrinsic types) in Python are passed by reference. It means if you change what a parameter refers to within a function, the change also reflects back in the calling function."
   ]
  },
  {
   "cell_type": "code",
   "execution_count": 16,
   "id": "db5d17ae",
   "metadata": {},
   "outputs": [
    {
     "name": "stdout",
     "output_type": "stream",
     "text": [
      "Before calling:  Kakamanna\n",
      "After calling:  Kakamanna\n"
     ]
    }
   ],
   "source": [
    "# Function arguments of intrinsic types like int, float, strings are passed by value\n",
    "def myfunc(nam):\n",
    "    nam = \"Arif Butt\"\n",
    "\n",
    "a = \"Kakamanna\"\n",
    "print(\"Before calling: \", a)\n",
    "\n",
    "rv = myfunc(a)\n",
    "print(\"After calling: \", a)"
   ]
  },
  {
   "cell_type": "code",
   "execution_count": 17,
   "id": "d11cdf0f",
   "metadata": {},
   "outputs": [
    {
     "name": "stdout",
     "output_type": "stream",
     "text": [
      "10 20 30\n"
     ]
    }
   ],
   "source": [
    "# Function arguments of intrinsic types like int, float, strings are passed by value\n",
    "def myfunc(x, y, z):\n",
    "    x = x + 1\n",
    "    y = y + 1\n",
    "    z = z + 1\n",
    "\n",
    "a = 10\n",
    "b = 20\n",
    "c = 30\n",
    "\n",
    "myfunc(a, b, c)\n",
    "\n",
    "print(a, b, c)"
   ]
  },
  {
   "cell_type": "code",
   "execution_count": 18,
   "id": "3eaec931",
   "metadata": {},
   "outputs": [
    {
     "name": "stdout",
     "output_type": "stream",
     "text": [
      "Before calling:  ['a', 'b', 'c', 'd', 'e', 'f']\n",
      "After calling:  ['a', 'b', 'x', 'd', 'e', 'f']\n"
     ]
    }
   ],
   "source": [
    "# Lists, Tuples, Sets, and Dictionary objects are passed to functions as reference\n",
    "# The changes made by the callee are visible to the caller (but not for tuples as they are immutable)\n",
    "def func1(l1):\n",
    "    l1[2] = 'x'\n",
    "    \n",
    "mylist = ['a', 'b', 'c', 'd', 'e', 'f']\n",
    "print(\"Before calling: \", mylist)\n",
    "\n",
    "func1(mylist)\n",
    "print(\"After calling: \", mylist)"
   ]
  },
  {
   "cell_type": "code",
   "execution_count": 19,
   "id": "05bd102a",
   "metadata": {},
   "outputs": [
    {
     "name": "stdout",
     "output_type": "stream",
     "text": [
      "Before calling:  ['a', 'b', 'c', 'd', 'e', 'f']\n",
      "List l3 is local to the function having:  ['x', 'c', 'd']\n",
      "After calling:  ['a', 'b', 'c', 'd', 'e', 'f']\n"
     ]
    }
   ],
   "source": [
    "# Example: \n",
    "def func1(list2):\n",
    "    l3 = list2[1:4]\n",
    "    l3[0] = 'x'\n",
    "    print(\"List l3 is local to the function having: \", l3)\n",
    "    \n",
    "list1 = ['a', 'b', 'c', 'd', 'e', 'f']\n",
    "print(\"Before calling: \", list1)\n",
    "\n",
    "func1(list1)\n",
    "print(\"After calling: \", list1)"
   ]
  },
  {
   "cell_type": "code",
   "execution_count": 20,
   "id": "bffa44b9",
   "metadata": {},
   "outputs": [
    {
     "name": "stdout",
     "output_type": "stream",
     "text": [
      "Before calling list1:  ['a', 'b', 'c', 'd', 'e', 'f']\n",
      "List l3 is local to the function having:  ['b', 'c', 'd']\n",
      "After calling list1:  ['a', 'b', 'c', 'd', 'e', 'f']\n",
      "Returned list is :  ['b', 'c', 'd']\n"
     ]
    }
   ],
   "source": [
    "# Example: \n",
    "def func1(list2):\n",
    "    l3 = list2[1:4]\n",
    "    print(\"List l3 is local to the function having: \", l3)\n",
    "    return l3\n",
    "    \n",
    "list1 = ['a', 'b', 'c', 'd', 'e', 'f']\n",
    "print(\"Before calling list1: \", list1)\n",
    " \n",
    "returned_list = func1(list1)\n",
    "print(\"After calling list1: \", list1)\n",
    "print(\"Returned list is : \", returned_list)"
   ]
  },
  {
   "cell_type": "code",
   "execution_count": 21,
   "id": "85b1e826",
   "metadata": {},
   "outputs": [
    {
     "name": "stdout",
     "output_type": "stream",
     "text": [
      "Before calling:  ('a', 'b', 'c', 'd', 'e', 'f')\n"
     ]
    },
    {
     "ename": "TypeError",
     "evalue": "'tuple' object does not support item assignment",
     "output_type": "error",
     "traceback": [
      "\u001b[1;31m---------------------------------------------------------------------------\u001b[0m",
      "\u001b[1;31mTypeError\u001b[0m                                 Traceback (most recent call last)",
      "Cell \u001b[1;32mIn[21], line 8\u001b[0m\n\u001b[0;32m      5\u001b[0m mytuple \u001b[38;5;241m=\u001b[39m (\u001b[38;5;124m'\u001b[39m\u001b[38;5;124ma\u001b[39m\u001b[38;5;124m'\u001b[39m, \u001b[38;5;124m'\u001b[39m\u001b[38;5;124mb\u001b[39m\u001b[38;5;124m'\u001b[39m, \u001b[38;5;124m'\u001b[39m\u001b[38;5;124mc\u001b[39m\u001b[38;5;124m'\u001b[39m, \u001b[38;5;124m'\u001b[39m\u001b[38;5;124md\u001b[39m\u001b[38;5;124m'\u001b[39m, \u001b[38;5;124m'\u001b[39m\u001b[38;5;124me\u001b[39m\u001b[38;5;124m'\u001b[39m, \u001b[38;5;124m'\u001b[39m\u001b[38;5;124mf\u001b[39m\u001b[38;5;124m'\u001b[39m)\n\u001b[0;32m      6\u001b[0m \u001b[38;5;28mprint\u001b[39m(\u001b[38;5;124m\"\u001b[39m\u001b[38;5;124mBefore calling: \u001b[39m\u001b[38;5;124m\"\u001b[39m, mytuple)\n\u001b[1;32m----> 8\u001b[0m func1(mytuple)\n\u001b[0;32m      9\u001b[0m \u001b[38;5;28mprint\u001b[39m(\u001b[38;5;124m\"\u001b[39m\u001b[38;5;124mAfter calling: \u001b[39m\u001b[38;5;124m\"\u001b[39m, mytuple)\n",
      "Cell \u001b[1;32mIn[21], line 3\u001b[0m, in \u001b[0;36mfunc1\u001b[1;34m(t1)\u001b[0m\n\u001b[0;32m      2\u001b[0m \u001b[38;5;28;01mdef\u001b[39;00m \u001b[38;5;21mfunc1\u001b[39m(t1):\n\u001b[1;32m----> 3\u001b[0m     t1[\u001b[38;5;241m2\u001b[39m] \u001b[38;5;241m=\u001b[39m \u001b[38;5;124m'\u001b[39m\u001b[38;5;124mx\u001b[39m\u001b[38;5;124m'\u001b[39m\n",
      "\u001b[1;31mTypeError\u001b[0m: 'tuple' object does not support item assignment"
     ]
    }
   ],
   "source": [
    "# Tuples are mutable: proof of concept\n",
    "def func1(t1):\n",
    "    t1[2] = 'x'\n",
    "    \n",
    "mytuple = ('a', 'b', 'c', 'd', 'e', 'f')\n",
    "print(\"Before calling: \", mytuple)\n",
    "\n",
    "func1(mytuple)\n",
    "print(\"After calling: \", mytuple)"
   ]
  },
  {
   "cell_type": "markdown",
   "id": "bff3c86a",
   "metadata": {},
   "source": [
    "**A List sorting example to differentiate between Pass By Value and Pass by Reference**"
   ]
  },
  {
   "cell_type": "code",
   "execution_count": 22,
   "id": "d32f7b98",
   "metadata": {},
   "outputs": [
    {
     "name": "stdout",
     "output_type": "stream",
     "text": [
      "Passed list is sorted:  [-6, 2, 8, 15, 25]\n",
      "Returned value:  None\n"
     ]
    }
   ],
   "source": [
    "# Example: The function sort the list that is passed by reference (Selection Sort)\n",
    "def sel_sort1(mylist):  \n",
    "    for i in range(len(mylist)):\n",
    "        min_idx = i\n",
    "        for j in range(i+1, len(mylist)):\n",
    "            if mylist[min_idx] > mylist[j]:\n",
    "                min_idx = j  \n",
    "        mylist[i], mylist[min_idx] = mylist[min_idx], mylist[i] # Swap minimum element with the first element\n",
    "\n",
    "numbers = [25, 15, -6, 8, 2]\n",
    "rv = sel_sort1(numbers)\n",
    "print(\"Passed list is sorted: \", numbers)\n",
    "print(\"Returned value: \", rv)"
   ]
  },
  {
   "cell_type": "code",
   "execution_count": 23,
   "id": "0dd8c748",
   "metadata": {},
   "outputs": [
    {
     "name": "stdout",
     "output_type": "stream",
     "text": [
      "Returned list:  [-6, 2, 8, 15, 25]\n",
      "Passed list is unchanged:  [25, 15, -6, 8, 2]\n"
     ]
    }
   ],
   "source": [
    "# Example: The function creates a new copy of the list that is passed by reference, sort the copy and return\n",
    "# The passed list remains unchanged\n",
    "def sel_sort2(mylist):\n",
    "    newlist = mylist[:]\n",
    "    for i in range(len(mylist)):\n",
    "        min_idx = i\n",
    "        for j in range(i+1, len(mylist)):\n",
    "            if newlist[min_idx] > newlist[j]:\n",
    "                min_idx = j  \n",
    "        newlist[i], newlist[min_idx] = newlist[min_idx], newlist[i] # Swap minimum element with the first element\n",
    "    return newlist\n",
    "\n",
    "numbers = [25, 15, -6, 8, 2]\n",
    "rv = sel_sort2(numbers)\n",
    "print(\"Returned list: \", rv)\n",
    "print(\"Passed list is unchanged: \", numbers)"
   ]
  },
  {
   "cell_type": "markdown",
   "id": "929039be",
   "metadata": {},
   "source": [
    "## 3. Function Arguments in Python\n",
    "- There are following points that one needs to keep in mind while using arguments in Python functions:\n",
    "    - Required Arguments / Positional arguments\n",
    "    - Default Arguments\n",
    "    - Named/Keyword Arguments\n",
    "    - Variable length Arguments\n",
    "    - Arbitrary Keyword Arguments"
   ]
  },
  {
   "cell_type": "markdown",
   "id": "853c5dfb",
   "metadata": {},
   "source": [
    "### a. Required/Positional arguments\n",
    "- If a function expect two arguments, you have to call the function with exactly two arguments.\n",
    "- Moreover, arguments must be passed in correct positional order to get the desired result."
   ]
  },
  {
   "cell_type": "code",
   "execution_count": 24,
   "id": "9389e0ab",
   "metadata": {},
   "outputs": [
    {
     "data": {
      "text/plain": [
       "5"
      ]
     },
     "execution_count": 24,
     "metadata": {},
     "output_type": "execute_result"
    }
   ],
   "source": [
    "def mysub(a, b):\n",
    "   return a - b\n",
    "\n",
    "x = 8\n",
    "y = 3\n",
    "# calling a function with both arguments (order matters)\n",
    "rv = mysub(x, y)\n",
    "rv"
   ]
  },
  {
   "cell_type": "code",
   "execution_count": 25,
   "id": "28b3f3c7",
   "metadata": {},
   "outputs": [
    {
     "ename": "TypeError",
     "evalue": "mysub() takes 2 positional arguments but 3 were given",
     "output_type": "error",
     "traceback": [
      "\u001b[1;31m---------------------------------------------------------------------------\u001b[0m",
      "\u001b[1;31mTypeError\u001b[0m                                 Traceback (most recent call last)",
      "Cell \u001b[1;32mIn[25], line 1\u001b[0m\n\u001b[1;32m----> 1\u001b[0m mysub(\u001b[38;5;241m3\u001b[39m, \u001b[38;5;241m2\u001b[39m, \u001b[38;5;241m4\u001b[39m)\n",
      "\u001b[1;31mTypeError\u001b[0m: mysub() takes 2 positional arguments but 3 were given"
     ]
    }
   ],
   "source": [
    "mysub(3, 2, 4)"
   ]
  },
  {
   "cell_type": "markdown",
   "id": "6360f7ac",
   "metadata": {},
   "source": [
    "### b. Default arguments\n",
    "- In a function definition, we can assign default values to arguments.\n",
    "- During function call, if a value is not passed to that argument, the function assumes the default value."
   ]
  },
  {
   "cell_type": "code",
   "execution_count": 26,
   "id": "0f05f612",
   "metadata": {},
   "outputs": [
    {
     "name": "stdout",
     "output_type": "stream",
     "text": [
      "Name:  Arif Butt , Age:  51\n",
      "Name:  Mujahid Butt , Age:  35\n"
     ]
    }
   ],
   "source": [
    "# Function with default arguments\n",
    "def display(name = 'kakamanna', age = 35):\n",
    "   print (\"Name: \", name, \", Age: \", age)\n",
    "   return;\n",
    "\n",
    "# calling a function with both arguments (order matters)\n",
    "display(\"Arif Butt\", 51)\n",
    "\n",
    "# calling a function with one argument only (the default value of age will be printed)\n",
    "display(\"Mujahid Butt\" )\n"
   ]
  },
  {
   "cell_type": "code",
   "execution_count": 27,
   "id": "68e1c341",
   "metadata": {},
   "outputs": [
    {
     "ename": "SyntaxError",
     "evalue": "invalid syntax (3118902821.py, line 2)",
     "output_type": "error",
     "traceback": [
      "\u001b[1;36m  Cell \u001b[1;32mIn[27], line 2\u001b[1;36m\u001b[0m\n\u001b[1;33m    display(,51 )\u001b[0m\n\u001b[1;37m            ^\u001b[0m\n\u001b[1;31mSyntaxError\u001b[0m\u001b[1;31m:\u001b[0m invalid syntax\n"
     ]
    }
   ],
   "source": [
    "# You cannot skip the first default argument and give the second\n",
    "display(,51 )\n",
    "#Solution is keyword arguments (discussed below)"
   ]
  },
  {
   "cell_type": "markdown",
   "id": "22e9c9dd",
   "metadata": {},
   "source": [
    "### c. Keyword/Named arguments\n",
    "- If you want to bypass the positional argument rule, we can pass arguments in any order by mentioning their parameter names, which the function definition is expecting.\n",
    "- Using **keyword/named arguments**, a programmer can pass arguments in any order by mentioning their parameter names while calling the function"
   ]
  },
  {
   "cell_type": "code",
   "execution_count": 28,
   "id": "93177a85",
   "metadata": {},
   "outputs": [
    {
     "name": "stdout",
     "output_type": "stream",
     "text": [
      "Name:  25 , Age:  Arif Butt\n"
     ]
    }
   ],
   "source": [
    "# Function calling with key word arguments\n",
    "def display(name, age):\n",
    "   print (\"Name: \", name, \", Age: \", age)\n",
    "   return;\n",
    "\n",
    "# Sequence/order of arguments matter\n",
    "display(25, \"Arif Butt\")"
   ]
  },
  {
   "cell_type": "code",
   "execution_count": 29,
   "id": "71cf6ca4",
   "metadata": {},
   "outputs": [
    {
     "name": "stdout",
     "output_type": "stream",
     "text": [
      "Name:  Mujahid Butt , Age:  25\n"
     ]
    }
   ],
   "source": [
    "# Sequence/order of arguments DOES NOT matter now\n",
    "display(age=25, name=\"Mujahid Butt\") # passing parameters in any order using keyword argument "
   ]
  },
  {
   "cell_type": "code",
   "execution_count": 30,
   "id": "1e8a53f8",
   "metadata": {},
   "outputs": [
    {
     "data": {
      "text/plain": [
       "5"
      ]
     },
     "execution_count": 30,
     "metadata": {},
     "output_type": "execute_result"
    }
   ],
   "source": [
    "def mysub(a, b):\n",
    "   return a - b\n",
    "\n",
    "\n",
    "# calling a function using named arguments is always a better programming practice\n",
    "rv = mysub(b = 3, a = 8)\n",
    "rv"
   ]
  },
  {
   "cell_type": "markdown",
   "id": "2d7c5bf3",
   "metadata": {},
   "source": [
    "### d. Variable length arguments\n",
    "- Although we can pass a list to a function containing any number of elements.\n",
    "- But sometimes, we need more flexibility while defining functions like we don't know in advance the fixed number of arguments.\n",
    "- Python allows us to make function calls with variable length arguments.\n",
    "- If you want a function to receive variable number of arguments, you place an asterisk (`*`) before the variable name.\n",
    "- This way the function will receive a tuple of arguments (an iterable), and can access the items accordingly"
   ]
  },
  {
   "cell_type": "code",
   "execution_count": 31,
   "id": "f131f51f",
   "metadata": {},
   "outputs": [
    {
     "name": "stdout",
     "output_type": "stream",
     "text": [
      "<class 'tuple'>\n",
      "\n",
      "\n"
     ]
    }
   ],
   "source": [
    "def my_function(*args):   # Whatever is passed to this function, it will create an iterable out of it\n",
    "    print(type(args))\n",
    "\n",
    "my_function('arif','rauf')\n",
    "print(\"\\n\")"
   ]
  },
  {
   "cell_type": "code",
   "execution_count": 32,
   "id": "e98931c6",
   "metadata": {},
   "outputs": [
    {
     "name": "stdout",
     "output_type": "stream",
     "text": [
      "arif rauf \n",
      "\n",
      "1 2 3 4 5 6 7 8 \n",
      "\n",
      "5 2.5 9 "
     ]
    }
   ],
   "source": [
    "# Example: Passing variable number of arguments to a function\n",
    "def my_function(*args):   # Whatever is passed to this function, it will create an iterable out of it\n",
    "    for i in args:        # We can use the iter() and next() function to iterate through the iterable\n",
    "        print(i, end=' ')\n",
    "\n",
    "my_function()\n",
    "my_function('arif','rauf')\n",
    "print(\"\\n\")\n",
    "\n",
    "my_function(1, 2, 3, 4, 5, 6, 7, 8)\n",
    "print(\"\\n\")\n",
    "\n",
    "my_function(5, 2.5, 9)"
   ]
  },
  {
   "cell_type": "markdown",
   "id": "f23e215b",
   "metadata": {},
   "source": [
    "### e. Arbitrary keyword arguments\n",
    "- Arbitrary keyword arguments (`**kwarg`) is just like variable length arguments (`*arg`). The difference is instead of accepting positional arguments, it accepts keyword (or named) arguments.\n",
    "- When using the ** parameter, the order of arguments does not matter. However, the name of the arguments must be the same.\n",
    "- This way the function will receive a dictionary of arguments, and you can access the items accordingly"
   ]
  },
  {
   "cell_type": "code",
   "execution_count": 33,
   "id": "0205f0d6",
   "metadata": {},
   "outputs": [
    {
     "name": "stdout",
     "output_type": "stream",
     "text": [
      "('a', 'Learning')\n",
      "('b', 'Is')\n",
      "('c', 'Fun')\n"
     ]
    }
   ],
   "source": [
    "def myfunc(**kwargs):\n",
    "    # Iterating over the key:value pairs of kwargs dictionary\n",
    "    for arg in kwargs.items():\n",
    "        print(arg)\n",
    "\n",
    "        \n",
    "myfunc(a = \"Learning\", b = 'Is', c = 'Fun')"
   ]
  },
  {
   "cell_type": "code",
   "execution_count": 34,
   "id": "3515bdbb",
   "metadata": {},
   "outputs": [
    {
     "name": "stdout",
     "output_type": "stream",
     "text": [
      "Learning\n",
      "Is\n",
      "Fun\n",
      "with\n",
      "Arif\n"
     ]
    }
   ],
   "source": [
    "def myfunc(**kwargs):\n",
    "    result = \"\"\n",
    "    # Iterating over the values only of kwargs dictionary\n",
    "    for arg in kwargs.values():\n",
    "        print(arg)\n",
    "\n",
    "myfunc(a = \"Learning\", b = 'Is', c = 'Fun', d ='with', e='Arif')"
   ]
  },
  {
   "cell_type": "code",
   "execution_count": 35,
   "id": "9acfc7e1",
   "metadata": {},
   "outputs": [
    {
     "name": "stdout",
     "output_type": "stream",
     "text": [
      "Hello,  Muhammad Arif Butt\n"
     ]
    }
   ],
   "source": [
    "def greet(**kwargs):\n",
    "    print('Hello, ', kwargs['fname'],  kwargs['mname'], kwargs['lname'])\n",
    "\n",
    "greet(lname='Butt', fname='Muhammad', mname= 'Arif')\n"
   ]
  },
  {
   "cell_type": "code",
   "execution_count": 36,
   "id": "f1c241ee",
   "metadata": {},
   "outputs": [
    {
     "data": {
      "text/plain": [
       "'Learning Is Fun '"
      ]
     },
     "execution_count": 36,
     "metadata": {},
     "output_type": "execute_result"
    }
   ],
   "source": [
    "def myconcat(**kwargs):\n",
    "    result = \"\"\n",
    "    # Iterating over the values of kwargs dictionary\n",
    "    for arg in kwargs.values():\n",
    "        result += arg + ' '\n",
    "    return result\n",
    "\n",
    "rv = myconcat(a = \"Learning\", b='Is', c='Fun')\n",
    "rv"
   ]
  },
  {
   "cell_type": "markdown",
   "id": "0e2dccaa",
   "metadata": {},
   "source": [
    "## 4. Passing Command Line Arguments in Python\n",
    "- The arguments that are given after the name of the program in the command line shell of the operating system are known as Command Line Arguments. \n",
    "- Python provides various ways of dealing with these types of arguments. The three most common are: \n",
    "    - Using `sys.argv`\n",
    "    - Using `getopt` module\n",
    "    - Using `argparse` module"
   ]
  },
  {
   "cell_type": "code",
   "execution_count": 37,
   "id": "410bd5fc",
   "metadata": {},
   "outputs": [
    {
     "name": "stdout",
     "output_type": "stream",
     "text": [
      "Error: no such file, variable, URL, history range or macro\n"
     ]
    }
   ],
   "source": [
    "%pycat cmd_arg1.py"
   ]
  },
  {
   "cell_type": "code",
   "execution_count": 38,
   "id": "c7c740ec",
   "metadata": {},
   "outputs": [
    {
     "name": "stdout",
     "output_type": "stream",
     "text": [
      "Total arguments passed: 3\n",
      "\n",
      "Name of Python script: C:\\Users\\attari\\anaconda3\\Lib\\site-packages\\ipykernel_launcher.py\n",
      "\n",
      "Arguments passed: -f C:\\Users\\attari\\AppData\\Roaming\\jupyter\\runtime\\kernel-b5d49ec3-53b9-4904-a93b-a6fd688e1e90.json "
     ]
    },
    {
     "ename": "ValueError",
     "evalue": "invalid literal for int() with base 10: '-f'",
     "output_type": "error",
     "traceback": [
      "\u001b[1;31m---------------------------------------------------------------------------\u001b[0m",
      "\u001b[1;31mValueError\u001b[0m                                Traceback (most recent call last)",
      "Cell \u001b[1;32mIn[38], line 19\u001b[0m\n\u001b[0;32m     17\u001b[0m \u001b[38;5;28msum\u001b[39m \u001b[38;5;241m=\u001b[39m \u001b[38;5;241m0\u001b[39m\n\u001b[0;32m     18\u001b[0m \u001b[38;5;28;01mfor\u001b[39;00m i \u001b[38;5;129;01min\u001b[39;00m \u001b[38;5;28mrange\u001b[39m(\u001b[38;5;241m1\u001b[39m, n):\n\u001b[1;32m---> 19\u001b[0m     \u001b[38;5;28msum\u001b[39m \u001b[38;5;241m+\u001b[39m\u001b[38;5;241m=\u001b[39m \u001b[38;5;28mint\u001b[39m(sys\u001b[38;5;241m.\u001b[39margv[i])\n\u001b[0;32m     21\u001b[0m \u001b[38;5;28mprint\u001b[39m(\u001b[38;5;124m\"\u001b[39m\u001b[38;5;130;01m\\n\u001b[39;00m\u001b[38;5;130;01m\\n\u001b[39;00m\u001b[38;5;124mResult:\u001b[39m\u001b[38;5;124m\"\u001b[39m, \u001b[38;5;28msum\u001b[39m)\n",
      "\u001b[1;31mValueError\u001b[0m: invalid literal for int() with base 10: '-f'"
     ]
    }
   ],
   "source": [
    "# %load cmd_arg1.py\n",
    "# Python script to demonstrate command line arguments\n",
    "\n",
    "import sys\n",
    "\n",
    "# `sys.argv` is a list of command line arguments \n",
    "n = len(sys.argv)   # number of command line arguments.\n",
    "print(\"Total arguments passed:\", n)\n",
    " \n",
    "print(\"\\nName of Python script:\", sys.argv[0]) #name of the current Python script. \n",
    " \n",
    "print(\"\\nArguments passed:\", end = \" \")\n",
    "for i in range(1, n):\n",
    "    print(sys.argv[i], end = \" \")\n",
    "     \n",
    "# add command line arguments and print result\n",
    "sum = 0\n",
    "for i in range(1, n):\n",
    "    sum += int(sys.argv[i])\n",
    "     \n",
    "print(\"\\n\\nResult:\", sum)"
   ]
  },
  {
   "cell_type": "code",
   "execution_count": 39,
   "id": "b8b9fe8c",
   "metadata": {},
   "outputs": [
    {
     "ename": "Exception",
     "evalue": "File `'cmd_arg1.py'` not found.",
     "output_type": "error",
     "traceback": [
      "\u001b[1;31m---------------------------------------------------------------------------\u001b[0m",
      "\u001b[1;31mOSError\u001b[0m                                   Traceback (most recent call last)",
      "File \u001b[1;32m~\\anaconda3\\Lib\\site-packages\\IPython\\core\\magics\\execution.py:716\u001b[0m, in \u001b[0;36mExecutionMagics.run\u001b[1;34m(self, parameter_s, runner, file_finder)\u001b[0m\n\u001b[0;32m    715\u001b[0m     fpath \u001b[38;5;241m=\u001b[39m arg_lst[\u001b[38;5;241m0\u001b[39m]\n\u001b[1;32m--> 716\u001b[0m     filename \u001b[38;5;241m=\u001b[39m file_finder(fpath)\n\u001b[0;32m    717\u001b[0m \u001b[38;5;28;01mexcept\u001b[39;00m \u001b[38;5;167;01mIndexError\u001b[39;00m \u001b[38;5;28;01mas\u001b[39;00m e:\n",
      "File \u001b[1;32m~\\anaconda3\\Lib\\site-packages\\IPython\\utils\\path.py:91\u001b[0m, in \u001b[0;36mget_py_filename\u001b[1;34m(name)\u001b[0m\n\u001b[0;32m     90\u001b[0m         \u001b[38;5;28;01mreturn\u001b[39;00m py_name\n\u001b[1;32m---> 91\u001b[0m \u001b[38;5;28;01mraise\u001b[39;00m \u001b[38;5;167;01mIOError\u001b[39;00m(\u001b[38;5;124m\"\u001b[39m\u001b[38;5;124mFile `\u001b[39m\u001b[38;5;132;01m%r\u001b[39;00m\u001b[38;5;124m` not found.\u001b[39m\u001b[38;5;124m\"\u001b[39m \u001b[38;5;241m%\u001b[39m name)\n",
      "\u001b[1;31mOSError\u001b[0m: File `'cmd_arg1.py'` not found.",
      "\nThe above exception was the direct cause of the following exception:\n",
      "\u001b[1;31mException\u001b[0m                                 Traceback (most recent call last)",
      "Cell \u001b[1;32mIn[39], line 1\u001b[0m\n\u001b[1;32m----> 1\u001b[0m get_ipython()\u001b[38;5;241m.\u001b[39mrun_line_magic(\u001b[38;5;124m'\u001b[39m\u001b[38;5;124mrun\u001b[39m\u001b[38;5;124m'\u001b[39m, \u001b[38;5;124m'\u001b[39m\u001b[38;5;124mcmd_arg1.py 5 7 2 -10\u001b[39m\u001b[38;5;124m'\u001b[39m)\n",
      "File \u001b[1;32m~\\anaconda3\\Lib\\site-packages\\IPython\\core\\interactiveshell.py:2480\u001b[0m, in \u001b[0;36mInteractiveShell.run_line_magic\u001b[1;34m(self, magic_name, line, _stack_depth)\u001b[0m\n\u001b[0;32m   2478\u001b[0m     kwargs[\u001b[38;5;124m'\u001b[39m\u001b[38;5;124mlocal_ns\u001b[39m\u001b[38;5;124m'\u001b[39m] \u001b[38;5;241m=\u001b[39m \u001b[38;5;28mself\u001b[39m\u001b[38;5;241m.\u001b[39mget_local_scope(stack_depth)\n\u001b[0;32m   2479\u001b[0m \u001b[38;5;28;01mwith\u001b[39;00m \u001b[38;5;28mself\u001b[39m\u001b[38;5;241m.\u001b[39mbuiltin_trap:\n\u001b[1;32m-> 2480\u001b[0m     result \u001b[38;5;241m=\u001b[39m fn(\u001b[38;5;241m*\u001b[39margs, \u001b[38;5;241m*\u001b[39m\u001b[38;5;241m*\u001b[39mkwargs)\n\u001b[0;32m   2482\u001b[0m \u001b[38;5;66;03m# The code below prevents the output from being displayed\u001b[39;00m\n\u001b[0;32m   2483\u001b[0m \u001b[38;5;66;03m# when using magics with decorator @output_can_be_silenced\u001b[39;00m\n\u001b[0;32m   2484\u001b[0m \u001b[38;5;66;03m# when the last Python token in the expression is a ';'.\u001b[39;00m\n\u001b[0;32m   2485\u001b[0m \u001b[38;5;28;01mif\u001b[39;00m \u001b[38;5;28mgetattr\u001b[39m(fn, magic\u001b[38;5;241m.\u001b[39mMAGIC_OUTPUT_CAN_BE_SILENCED, \u001b[38;5;28;01mFalse\u001b[39;00m):\n",
      "File \u001b[1;32m~\\anaconda3\\Lib\\site-packages\\IPython\\core\\magics\\execution.py:727\u001b[0m, in \u001b[0;36mExecutionMagics.run\u001b[1;34m(self, parameter_s, runner, file_finder)\u001b[0m\n\u001b[0;32m    725\u001b[0m     \u001b[38;5;28;01mif\u001b[39;00m os\u001b[38;5;241m.\u001b[39mname \u001b[38;5;241m==\u001b[39m \u001b[38;5;124m'\u001b[39m\u001b[38;5;124mnt\u001b[39m\u001b[38;5;124m'\u001b[39m \u001b[38;5;129;01mand\u001b[39;00m re\u001b[38;5;241m.\u001b[39mmatch(\u001b[38;5;124mr\u001b[39m\u001b[38;5;124m\"\u001b[39m\u001b[38;5;124m^\u001b[39m\u001b[38;5;124m'\u001b[39m\u001b[38;5;124m.*\u001b[39m\u001b[38;5;124m'\u001b[39m\u001b[38;5;124m$\u001b[39m\u001b[38;5;124m\"\u001b[39m,fpath):\n\u001b[0;32m    726\u001b[0m         warn(\u001b[38;5;124m'\u001b[39m\u001b[38;5;124mFor Windows, use double quotes to wrap a filename: \u001b[39m\u001b[38;5;132;01m%r\u001b[39;00m\u001b[38;5;124mun \u001b[39m\u001b[38;5;124m\"\u001b[39m\u001b[38;5;124mmypath\u001b[39m\u001b[38;5;130;01m\\\\\u001b[39;00m\u001b[38;5;124mmyfile.py\u001b[39m\u001b[38;5;124m\"\u001b[39m\u001b[38;5;124m'\u001b[39m)\n\u001b[1;32m--> 727\u001b[0m     \u001b[38;5;28;01mraise\u001b[39;00m \u001b[38;5;167;01mException\u001b[39;00m(msg) \u001b[38;5;28;01mfrom\u001b[39;00m \u001b[38;5;21;01me\u001b[39;00m\n\u001b[0;32m    728\u001b[0m \u001b[38;5;28;01mexcept\u001b[39;00m \u001b[38;5;167;01mTypeError\u001b[39;00m:\n\u001b[0;32m    729\u001b[0m     \u001b[38;5;28;01mif\u001b[39;00m fpath \u001b[38;5;129;01min\u001b[39;00m sys\u001b[38;5;241m.\u001b[39mmeta_path:\n",
      "\u001b[1;31mException\u001b[0m: File `'cmd_arg1.py'` not found."
     ]
    }
   ],
   "source": [
    "%run cmd_arg1.py 5 7 2 -10"
   ]
  },
  {
   "cell_type": "markdown",
   "id": "31f31e66",
   "metadata": {},
   "source": [
    "## 5. Functions can be Nested in Python\n",
    "- A function that is defined inside another function is called nested or inner function.\n",
    "- Nested or inner function can access variables created in the outer function (enclosing scope).\n",
    "- Inner functions have many uses, most notably as closure factories and decorator functions."
   ]
  },
  {
   "cell_type": "code",
   "execution_count": null,
   "id": "fed321a2",
   "metadata": {},
   "outputs": [],
   "source": [
    "def outerFunction(): \n",
    "    name = 'Arif'\n",
    "    def innerFunction():\n",
    "        print(name) \n",
    "    innerFunction() \n",
    "    \n",
    "outerFunction() \n",
    "#innerFunction() # This line will raise a NameErrror\n",
    "                 # because an innerFunction() can only be accessed in the outerFunction() body, and not outside it"
   ]
  },
  {
   "cell_type": "markdown",
   "id": "0f49370f",
   "metadata": {},
   "source": [
    "## 6. Understanding Scope in Python\n",
    "- **Scope of Variable** means the part of program where we can access that particular variable. \n",
    "- **Lifetime of a variable** is the period throughout which the variable exists in memory. The lifetime of a variable inside a function is as long as the function executes. They are destroyed once we return from the function. Hence, a function does not remember the value of a variable from its previous calls.\n",
    "- **Symbol Table**: Python interpreter maintains a data structure called symbol table (using a dictionary object) containing information about each identifier appearing in the program's source code. \n",
    "\n",
    "- In Python, there are 4 types of Variable Scopes\n",
    "    >- Local Scope\n",
    "    >- Nonlocal/Enclosing Scope\n",
    "    >- Global Scope\n",
    "    >- Built-in Scope\n"
   ]
  },
  {
   "cell_type": "markdown",
   "id": "d2ec5ee0",
   "metadata": {},
   "source": [
    "### a. Understanding Local  Scope\n",
    ">**Local Scope:** Python first tries to search for an identifier (variable) in Local scope. The local variable exists only within the block/function that it is declared in. When that block/function ends, the local variable has no significance, it gets destroyed. We cannot use it outside the function where it is declared."
   ]
  },
  {
   "cell_type": "code",
   "execution_count": 40,
   "id": "4086958d",
   "metadata": {},
   "outputs": [
    {
     "name": "stdout",
     "output_type": "stream",
     "text": [
      "Value of variable 'bb' inside function:  1234\n"
     ]
    }
   ],
   "source": [
    "# Example 1: Understanding Local Scope\n",
    "# The variable 'bb' declared inside the function is local to that function\n",
    "# When you try to access (read/write) it outside the function, Python raises a NameError\n",
    "\n",
    "def my_function():\n",
    "    bb = 1234  # a new local variable named 'a' is created\n",
    "    print(\"Value of variable 'bb' inside function: \", bb)\n",
    "\n",
    "my_function()\n",
    "#print(\"Value of variable 'bb' outside function: \", bb) #Raise NameError, as the variable 'bb' no longer exists"
   ]
  },
  {
   "cell_type": "markdown",
   "id": "4c344bbd",
   "metadata": {},
   "source": [
    "### b. Understanding Enclosing Scope\n",
    ">**Enclosing Scope:** Enclosing (or nonlocal) scope is a special scope that only exists for nested functions. If Python does not find an identifier (variable) within the local scope, it will examine the Enclosing scope to see if it can find the variable there."
   ]
  },
  {
   "cell_type": "code",
   "execution_count": 41,
   "id": "335d0e82",
   "metadata": {},
   "outputs": [
    {
     "name": "stdout",
     "output_type": "stream",
     "text": [
      "4\n",
      "4\n"
     ]
    }
   ],
   "source": [
    "# Example 1: Understanding Enclosing / Non-Local Scope\n",
    "def f1():\n",
    "    x = 4\n",
    "    def f2():\n",
    "        print(x)  #Since there is no variable 'x' defined in f2(), so it will search it in the non-local scope\n",
    "    f2()\n",
    "    print(x)     #The variable 'x' is defined in the local scope of f1() function\n",
    "\n",
    "f1()"
   ]
  },
  {
   "cell_type": "code",
   "execution_count": 42,
   "id": "de61c550",
   "metadata": {},
   "outputs": [
    {
     "name": "stdout",
     "output_type": "stream",
     "text": [
      "Inside the f2() function: cc =  4321\n",
      "Inside the f1() function: cc =  1234\n"
     ]
    }
   ],
   "source": [
    "# Example 2: Understanding Enclosing / Non-Local Scope\n",
    "def f1():\n",
    "    cc = 1234      # cc is local variable to f1()\n",
    "    def f2():\n",
    "        cc = 4321  # cc is local variable to f2()\n",
    "        print(\"Inside the f2() function: cc = \", cc)\n",
    "    f2()\n",
    "    print(\"Inside the f1() function: cc = \", cc)\n",
    "\n",
    "\n",
    "f1()"
   ]
  },
  {
   "cell_type": "markdown",
   "id": "bdc5fee5",
   "metadata": {},
   "source": [
    "### c. Understanding Global Scope\n",
    ">- **Global Scope:** A global variable is accessible from anywhere in your script, including from within a function. It is usually defined at the top of the script or outside of the function. \n",
    ">- Python first tries to find an identifier in the local scope, then in the non-local/enclosing scope. If it cannot find it in those two scopes then it will search the identifier in the global scope."
   ]
  },
  {
   "cell_type": "code",
   "execution_count": 43,
   "id": "5dd92692",
   "metadata": {},
   "outputs": [
    {
     "name": "stdout",
     "output_type": "stream",
     "text": [
      "Value of variable 'b' inside function:  9999\n",
      "Value of global variable 'b' outside function:  9999\n"
     ]
    }
   ],
   "source": [
    "# Example 1: Understanding Global Scope\n",
    "\n",
    "b = 9999   # a global variable\n",
    "def my_function():\n",
    "    print(\"Value of variable 'b' inside function: \", b)\n",
    "\n",
    "my_function()\n",
    "print(\"Value of global variable 'b' outside function: \", b)\n"
   ]
  },
  {
   "cell_type": "code",
   "execution_count": 44,
   "id": "6f53cdd9",
   "metadata": {},
   "outputs": [
    {
     "name": "stdout",
     "output_type": "stream",
     "text": [
      "Value of variable 'c' inside function:  4321\n",
      "Value of variable 'c' outside function:  1234\n"
     ]
    }
   ],
   "source": [
    "# Example 2: Understanding Global Scope\n",
    "c = 1234     # a global variable named 'c'\n",
    "def my_function():\n",
    "    c = 4321  # a new local variable named 'c' is created\n",
    "    print(\"Value of variable 'c' inside function: \", c)\n",
    "\n",
    "my_function()\n",
    "# Over here the local variable c containing 4321 does not exist, therefore, Python interpreter will look \n",
    "# in the non-local/enclosing scope, it also doesnot contain variable c, so\n",
    "# finally the Python interpreter will look in the global scope, where it exist with value of 1234\n",
    "print(\"Value of variable 'c' outside function: \", c)\n"
   ]
  },
  {
   "cell_type": "markdown",
   "id": "457d6ed9",
   "metadata": {},
   "source": [
    "### d. Understanding Built-in Scope\n",
    ">- The Built-in scope has all the functions and variables that are there, when we start the Python interpreter, e.g., the `print()`, `len()` and `id()` functions are in the built-in scope.\n",
    ">- If an identifier is not found in local, enclosing and global scopes within a module, then Python will examine the built-in scope to see if it is defined there. "
   ]
  },
  {
   "cell_type": "code",
   "execution_count": 45,
   "id": "d3f36cae",
   "metadata": {},
   "outputs": [
    {
     "name": "stdout",
     "output_type": "stream",
     "text": [
      "12\n"
     ]
    }
   ],
   "source": [
    "# Example: Since the identifier `len` is not found in local, enclosing and global scopes, therefore,\n",
    "# Python would consult the Built-In scope, where it will find the len function and outputs 12\n",
    "x = len ('Data Science')    \n",
    "print(x)  "
   ]
  },
  {
   "cell_type": "code",
   "execution_count": 46,
   "id": "0f15f10b",
   "metadata": {},
   "outputs": [
    {
     "name": "stdout",
     "output_type": "stream",
     "text": [
      "54\n"
     ]
    }
   ],
   "source": [
    "# Example: Since the identifier `len` is there in the local scope, therefore\n",
    "# Python would use the `len` function defined in local scope and not the Built-In scope, and outputs 54\n",
    "def len(x):\n",
    "    return 54\n",
    "\n",
    "x = len('Data Science')    \n",
    "print(x)"
   ]
  },
  {
   "cell_type": "markdown",
   "id": "70bf759b",
   "metadata": {},
   "source": [
    "### e. Use of `global` Keyword\n",
    ">- The `global` keyword is used to tell the Python interpreter to use the globally defined variable instead of locally defining it. \n",
    ">- Let us understand this with example:"
   ]
  },
  {
   "cell_type": "markdown",
   "id": "362d6cf1",
   "metadata": {},
   "source": [
    "**We cannot update the value of a global variable inside a function (local scope). If you try to do so it will raise an error**"
   ]
  },
  {
   "cell_type": "code",
   "execution_count": 47,
   "id": "ae006ff2",
   "metadata": {},
   "outputs": [
    {
     "ename": "UnboundLocalError",
     "evalue": "cannot access local variable 'c' where it is not associated with a value",
     "output_type": "error",
     "traceback": [
      "\u001b[1;31m---------------------------------------------------------------------------\u001b[0m",
      "\u001b[1;31mUnboundLocalError\u001b[0m                         Traceback (most recent call last)",
      "Cell \u001b[1;32mIn[47], line 7\u001b[0m\n\u001b[0;32m      4\u001b[0m     c \u001b[38;5;241m=\u001b[39m c \u001b[38;5;241m+\u001b[39m \u001b[38;5;241m1\u001b[39m    \u001b[38;5;66;03m# Updating global variable inside function\u001b[39;00m\n\u001b[0;32m      5\u001b[0m     \u001b[38;5;28mprint\u001b[39m(\u001b[38;5;124m\"\u001b[39m\u001b[38;5;124mValue of variable \u001b[39m\u001b[38;5;124m'\u001b[39m\u001b[38;5;124mc\u001b[39m\u001b[38;5;124m'\u001b[39m\u001b[38;5;124m inside function: \u001b[39m\u001b[38;5;124m\"\u001b[39m, c)\n\u001b[1;32m----> 7\u001b[0m my_function()\n\u001b[0;32m      8\u001b[0m \u001b[38;5;28mprint\u001b[39m(\u001b[38;5;124m\"\u001b[39m\u001b[38;5;124mValue of variable \u001b[39m\u001b[38;5;124m'\u001b[39m\u001b[38;5;124mc\u001b[39m\u001b[38;5;124m'\u001b[39m\u001b[38;5;124m outside function: \u001b[39m\u001b[38;5;124m\"\u001b[39m, c)\n",
      "Cell \u001b[1;32mIn[47], line 4\u001b[0m, in \u001b[0;36mmy_function\u001b[1;34m()\u001b[0m\n\u001b[0;32m      3\u001b[0m \u001b[38;5;28;01mdef\u001b[39;00m \u001b[38;5;21mmy_function\u001b[39m():\n\u001b[1;32m----> 4\u001b[0m     c \u001b[38;5;241m=\u001b[39m c \u001b[38;5;241m+\u001b[39m \u001b[38;5;241m1\u001b[39m    \u001b[38;5;66;03m# Updating global variable inside function\u001b[39;00m\n\u001b[0;32m      5\u001b[0m     \u001b[38;5;28mprint\u001b[39m(\u001b[38;5;124m\"\u001b[39m\u001b[38;5;124mValue of variable \u001b[39m\u001b[38;5;124m'\u001b[39m\u001b[38;5;124mc\u001b[39m\u001b[38;5;124m'\u001b[39m\u001b[38;5;124m inside function: \u001b[39m\u001b[38;5;124m\"\u001b[39m, c)\n",
      "\u001b[1;31mUnboundLocalError\u001b[0m: cannot access local variable 'c' where it is not associated with a value"
     ]
    }
   ],
   "source": [
    "# Example:\n",
    "c = 1234         # c is a global variable\n",
    "def my_function():\n",
    "    c = c + 1    # Updating global variable inside function\n",
    "    print(\"Value of variable 'c' inside function: \", c)\n",
    "\n",
    "my_function()\n",
    "print(\"Value of variable 'c' outside function: \", c)\n"
   ]
  },
  {
   "cell_type": "markdown",
   "id": "ef7d7524",
   "metadata": {},
   "source": [
    "**If you want to update the value of a global variable inside a function, simply type `global` followed by the variable name. This will tell Python interpreter to use the globally defined variable instead of locally defining it**"
   ]
  },
  {
   "cell_type": "code",
   "execution_count": 48,
   "id": "264f2875",
   "metadata": {},
   "outputs": [
    {
     "name": "stdout",
     "output_type": "stream",
     "text": [
      "Value of variable 'd' inside function:  1235\n",
      "Value of variable 'd' outside function:  1235\n"
     ]
    }
   ],
   "source": [
    "# Example: To update a global variable inside a function, you use the global keyword\n",
    "d = 1234\n",
    "def my_function():\n",
    "    global d   # global keyword does not create a new local variable, rather allows you to access the global var\n",
    "    d = d + 1  # Updating global variable inside function\n",
    "    print(\"Value of variable 'd' inside function: \", d)\n",
    "\n",
    "my_function()\n",
    "print(\"Value of variable 'd' outside function: \", d)"
   ]
  },
  {
   "cell_type": "markdown",
   "id": "7ad5f54b",
   "metadata": {},
   "source": [
    "### f. Use of `nonlocal` Keyword\n",
    ">- Python `nonlocal` keyword is used to make the variable which refers to the variable bounded in the nearest scope.\n",
    ">- Scope to which variable it bound should not be global or local scope.\n",
    ">- The main use of nonlocal variable is in a nested function."
   ]
  },
  {
   "cell_type": "code",
   "execution_count": 49,
   "id": "08f9e88c",
   "metadata": {},
   "outputs": [
    {
     "ename": "UnboundLocalError",
     "evalue": "cannot access local variable 'a' where it is not associated with a value",
     "output_type": "error",
     "traceback": [
      "\u001b[1;31m---------------------------------------------------------------------------\u001b[0m",
      "\u001b[1;31mUnboundLocalError\u001b[0m                         Traceback (most recent call last)",
      "Cell \u001b[1;32mIn[49], line 11\u001b[0m\n\u001b[0;32m      7\u001b[0m     f2()\n\u001b[0;32m      8\u001b[0m     \u001b[38;5;28mprint\u001b[39m(\u001b[38;5;124m\"\u001b[39m\u001b[38;5;124mInside the f1() function: a = \u001b[39m\u001b[38;5;124m\"\u001b[39m, a)\n\u001b[1;32m---> 11\u001b[0m f1()\n",
      "Cell \u001b[1;32mIn[49], line 7\u001b[0m, in \u001b[0;36mf1\u001b[1;34m()\u001b[0m\n\u001b[0;32m      5\u001b[0m     a \u001b[38;5;241m=\u001b[39m a \u001b[38;5;241m+\u001b[39m \u001b[38;5;241m1\u001b[39m\n\u001b[0;32m      6\u001b[0m     \u001b[38;5;28mprint\u001b[39m(\u001b[38;5;124m\"\u001b[39m\u001b[38;5;124mInside the f2() function: a = \u001b[39m\u001b[38;5;124m\"\u001b[39m, a)\n\u001b[1;32m----> 7\u001b[0m f2()\n\u001b[0;32m      8\u001b[0m \u001b[38;5;28mprint\u001b[39m(\u001b[38;5;124m\"\u001b[39m\u001b[38;5;124mInside the f1() function: a = \u001b[39m\u001b[38;5;124m\"\u001b[39m, a)\n",
      "Cell \u001b[1;32mIn[49], line 5\u001b[0m, in \u001b[0;36mf1.<locals>.f2\u001b[1;34m()\u001b[0m\n\u001b[0;32m      4\u001b[0m \u001b[38;5;28;01mdef\u001b[39;00m \u001b[38;5;21mf2\u001b[39m():\n\u001b[1;32m----> 5\u001b[0m     a \u001b[38;5;241m=\u001b[39m a \u001b[38;5;241m+\u001b[39m \u001b[38;5;241m1\u001b[39m\n\u001b[0;32m      6\u001b[0m     \u001b[38;5;28mprint\u001b[39m(\u001b[38;5;124m\"\u001b[39m\u001b[38;5;124mInside the f2() function: a = \u001b[39m\u001b[38;5;124m\"\u001b[39m, a)\n",
      "\u001b[1;31mUnboundLocalError\u001b[0m: cannot access local variable 'a' where it is not associated with a value"
     ]
    }
   ],
   "source": [
    "# Example 1: You get an error if you try to update a non-local variable inside a function\n",
    "def f1():\n",
    "    a = 1234\n",
    "    def f2():\n",
    "        a = a + 1\n",
    "        print(\"Inside the f2() function: a = \", a)\n",
    "    f2()\n",
    "    print(\"Inside the f1() function: a = \", a)\n",
    "\n",
    "\n",
    "f1()"
   ]
  },
  {
   "cell_type": "code",
   "execution_count": 50,
   "id": "70485c83",
   "metadata": {},
   "outputs": [
    {
     "name": "stdout",
     "output_type": "stream",
     "text": [
      "Inside the f2() function: a =  1235\n",
      "Inside the f1() function: a =  1235\n"
     ]
    }
   ],
   "source": [
    "# Example 2: To update a nonlocal variable inside the inner function, you use the nonlocal keyword\n",
    "def f1():\n",
    "    a = 1234\n",
    "    def f2():\n",
    "        nonlocal a\n",
    "        a = a + 1\n",
    "        print(\"Inside the f2() function: a = \", a)\n",
    "    f2()\n",
    "    print(\"Inside the f1() function: a = \", a)\n",
    "\n",
    "\n",
    "f1()"
   ]
  },
  {
   "cell_type": "code",
   "execution_count": 51,
   "id": "17a100fd",
   "metadata": {},
   "outputs": [
    {
     "name": "stdout",
     "output_type": "stream",
     "text": [
      "5 140723900135992\n",
      "3 140723900135928\n",
      "15 140723900136312\n",
      "25 140723900136632\n",
      "25 140723900136632\n"
     ]
    }
   ],
   "source": [
    "# QUIZ: Give the output by assuming memory addresses at your own.\n",
    "# Do mention the scope of all the identifiers used\n",
    "x = 5\n",
    "print(x, id(x))\n",
    "def number():\n",
    "    x = 3\n",
    "    print(x, id(x))\n",
    "    def f1():\n",
    "        nonlocal x\n",
    "        x = x * 5\n",
    "        print(x, id(x))\n",
    "    f1()\n",
    "def numb():\n",
    "    global x\n",
    "    x = x * 5\n",
    "    print(x, id(x))\n",
    "number()\n",
    "numb()    \n",
    "print(x, id(x))"
   ]
  },
  {
   "cell_type": "code",
   "execution_count": null,
   "id": "70027c25",
   "metadata": {},
   "outputs": [],
   "source": []
  },
  {
   "cell_type": "markdown",
   "id": "d9de52f9",
   "metadata": {},
   "source": [
    "## Check your Concepts\n",
    "\n",
    "Try answering the following questions to test your understanding of the topics covered in this notebook:\n",
    "\n",
    "1. What is a function?\n",
    "2. What are the benefits of using functions?\n",
    "3. What are some built-in functions in Python?\n",
    "4. How do you define a function in Python? Give an example.\n",
    "5. What is the body of a function?\n",
    "6. When are the statements in the body of a function executed?\n",
    "7. What is meant by calling or invoking a function? Give an example.\n",
    "8. What are function arguments? How are they useful?\n",
    "9. How do you store the result of a function in a variable?\n",
    "10. What is the purpose of the `return` keyword in Python?\n",
    "11. Can you return multiple values from a function?\n",
    "12. Can a `return` statement be used inside an `if` block or a `for` loop?\n",
    "13. Can the `return` keyword be used outside a function?\n",
    "14. What is scope in a programming region? \n",
    "15. How do you define a variable inside a function?\n",
    "16. What are local & global variables?\n",
    "17. Can you access the variables defined inside a function outside its body? Why or why not?\n",
    "18. What do you mean by the statement \"a function defines a scope within Python\"?\n",
    "19. Do for and while loops define a scope, like functions?\n",
    "20. Do if-else blocks define a scope, like functions?\n",
    "21. What are optional function arguments & default values? Give an example.\n",
    "22. Why should the required arguments appear before the optional arguments in a function definition?\n",
    "23. How do you invoke a function with named arguments? Illustrate with an example.\n",
    "24. Can you split a function invocation into multiple lines?\n",
    "25. Write a function that takes a number and rounds it up to the nearest integer.\n",
    "26. What is a docstring? Why is it useful?\n",
    "27. How do you display the docstring for a function?\n",
    "28. What are *args and **kwargs? How are they useful? Give an example.\n",
    "29. Can you define functions inside functions? \n",
    "30. What is function closure in Python? How is it useful? Give an example.\n",
    "31. What is recursion? Illustrate with an example.\n",
    "32. Can functions accept other functions as arguments? Illustrate with an example.\n",
    "33. Can functions return other functions as results? Illustrate with an example.\n",
    "34. What are decorators? How are they useful?\n",
    "35. Implement a function decorator which prints the arguments and result of wrapped functions.\n",
    "36. What are some in-built decorators in Python?\n",
    "37. Can you invoke a function inside the body of another function? Give an example.\n",
    "38. What is the single responsibility principle, and how does it apply while writing functions?\n",
    "39. What some characteristics of well-written functions?\n",
    "40. Can you use if statements or while loops within a function? Illustrate with an example.\n",
    "41. Compare the use of lambda functions in sorted(), map(), filter(), reduce(), and accumulate() functions and their different use cases.\n",
    "42. Check out the use of command line arguments in Python using `sys.argv[]`, and `getopt.getopt()`\n",
    "43. The pdb module implements an interactive debugging environment for Python programs. It includes features to let you pause your program, look at the values of variables, and watch program execution step-by-step, so you can understand what your program actually does and find bugs in the logic. Python Debugger (pdb): https://docs.python.org/3.8/library/pdb.html\n"
   ]
  },
  {
   "cell_type": "code",
   "execution_count": 52,
   "id": "ea4d5f09",
   "metadata": {},
   "outputs": [
    {
     "name": "stdout",
     "output_type": "stream",
     "text": [
      "5\n",
      "3\n",
      "6\n",
      "6\n",
      "5\n"
     ]
    }
   ],
   "source": [
    "a = 5    \n",
    "print(a)\n",
    "def myfunc():\n",
    "    a = 3\n",
    "    print(a)\n",
    "    def f1():\n",
    "        nonlocal a\n",
    "        a = a * 2\n",
    "        print(a)\n",
    "    f1()\n",
    "    print(a)\n",
    "\n",
    "myfunc()    \n",
    "print(a)"
   ]
  },
  {
   "cell_type": "markdown",
   "id": "c26078fb-256d-45ce-81b4-d9d833dbbe9b",
   "metadata": {},
   "source": [
    "<h1 align=\"center\">Advance Functions</h1>"
   ]
  },
  {
   "cell_type": "markdown",
   "id": "72d317f7-9503-4b60-8d3f-999d302e056c",
   "metadata": {},
   "source": [
    "## Learning agenda of this notebook\n",
    "1. Anonymous / Lambda Functions\n",
    "2. Using lambda function as argument to other functions\n",
    "3. Using Lambda Function with built-in `map()` function\n",
    "4. Using Lambda Function with built-in `filter()` function\n",
    "5. Using Lambda Function with built-in `reduce()` function\n",
    "6. Using Lambda Function with built-in `sorted()` function\n",
    "7. Bonus\n",
    "    - The `zip()` function\n",
    "    - Iterators and Generators"
   ]
  },
  {
   "cell_type": "markdown",
   "id": "2d2cfe96-a39b-45a3-86ad-7b07422e732d",
   "metadata": {},
   "source": [
    "## 1. Lambda / Anonymous Functions\n",
    "The syntax of defining a lambda function is:**```lambda [arg1 [,arg2,.....argn]]:expression```**"
   ]
  },
  {
   "cell_type": "markdown",
   "id": "9400a8b1-7f04-4005-8362-694819b41184",
   "metadata": {},
   "source": [
    "### a. Example 1: A function that is passed one argument and it returns its square\n",
    "- Let us do this example step by step to completely understand the process of writing lambda functions"
   ]
  },
  {
   "cell_type": "code",
   "execution_count": 53,
   "id": "4b59f952-cf96-46aa-a6a3-be061713c6cf",
   "metadata": {},
   "outputs": [],
   "source": [
    "def square1(num):\n",
    "    result = num**2\n",
    "    return result"
   ]
  },
  {
   "cell_type": "code",
   "execution_count": 54,
   "id": "1fa25e62-5ab6-4caf-a638-5b23793cc844",
   "metadata": {},
   "outputs": [
    {
     "data": {
      "text/plain": [
       "25"
      ]
     },
     "execution_count": 54,
     "metadata": {},
     "output_type": "execute_result"
    }
   ],
   "source": [
    "rv = square1(5)\n",
    "rv"
   ]
  },
  {
   "cell_type": "markdown",
   "id": "c524878a-9b60-40e0-a907-2f31666e3752",
   "metadata": {},
   "source": [
    "**Let us try to shrink the above function**"
   ]
  },
  {
   "cell_type": "code",
   "execution_count": 55,
   "id": "66208e7d-d6f7-4e41-888b-ec2d153de400",
   "metadata": {},
   "outputs": [],
   "source": [
    "def square2(num):\n",
    "    return num**2"
   ]
  },
  {
   "cell_type": "code",
   "execution_count": 56,
   "id": "94925f13-507b-4376-b403-50c83a605cbd",
   "metadata": {},
   "outputs": [
    {
     "data": {
      "text/plain": [
       "25"
      ]
     },
     "execution_count": 56,
     "metadata": {},
     "output_type": "execute_result"
    }
   ],
   "source": [
    "rv = square2(5)\n",
    "rv"
   ]
  },
  {
   "cell_type": "markdown",
   "id": "0e929499-6fe6-4e7a-89e2-79c7913feb46",
   "metadata": {},
   "source": [
    "**Although not a good programming style, however, we can write this in a single line**"
   ]
  },
  {
   "cell_type": "code",
   "execution_count": 57,
   "id": "4a8557b3-7c1f-4d1e-9553-182a6a7c9787",
   "metadata": {},
   "outputs": [],
   "source": [
    "def square3(num): return num**2"
   ]
  },
  {
   "cell_type": "code",
   "execution_count": 58,
   "id": "91a0f824-7f0e-40f9-8237-6468af8e84f4",
   "metadata": {},
   "outputs": [
    {
     "data": {
      "text/plain": [
       "25"
      ]
     },
     "execution_count": 58,
     "metadata": {},
     "output_type": "execute_result"
    }
   ],
   "source": [
    "rv = square3(5)\n",
    "rv"
   ]
  },
  {
   "cell_type": "markdown",
   "id": "158e9f64-12af-4d04-afd7-68f44b8f2829",
   "metadata": {},
   "source": [
    "**This is the form a function that a lambda expression intends to replicate. A lambda expression can then be written as:**"
   ]
  },
  {
   "cell_type": "code",
   "execution_count": 59,
   "id": "d8611dc4-fd52-421f-93ae-d6465b8de3f7",
   "metadata": {},
   "outputs": [
    {
     "data": {
      "text/plain": [
       "<function __main__.<lambda>(num)>"
      ]
     },
     "execution_count": 59,
     "metadata": {},
     "output_type": "execute_result"
    }
   ],
   "source": [
    "lambda num: num**2"
   ]
  },
  {
   "cell_type": "code",
   "execution_count": 60,
   "id": "9b34506d-2372-401f-b9b8-9c4a48f9821f",
   "metadata": {},
   "outputs": [],
   "source": [
    "square4 = lambda num: num**2"
   ]
  },
  {
   "cell_type": "code",
   "execution_count": 61,
   "id": "ececa1f9-2344-4629-9b01-8dbf2364aaef",
   "metadata": {},
   "outputs": [
    {
     "name": "stdout",
     "output_type": "stream",
     "text": [
      "<function <lambda> at 0x000002A16A3C2020>\n",
      "<class 'function'>\n"
     ]
    }
   ],
   "source": [
    "print(square4)      \n",
    "print(type(square4))"
   ]
  },
  {
   "cell_type": "code",
   "execution_count": 62,
   "id": "76bf3835-1360-4231-9507-6b405ac3b0e6",
   "metadata": {},
   "outputs": [
    {
     "data": {
      "text/plain": [
       "25"
      ]
     },
     "execution_count": 62,
     "metadata": {},
     "output_type": "execute_result"
    }
   ],
   "source": [
    "rv = square4(5)\n",
    "rv"
   ]
  },
  {
   "cell_type": "markdown",
   "id": "31b4c0b3-078b-49c3-8733-250b51373126",
   "metadata": {},
   "source": [
    "### b. Example 2: A function that is passed two arguments and it returns their sum\n",
    "```\n",
    "def mysum2(a, b):\n",
    "   return a+b\n",
    "\n",
    "rv = mysum2(5, 7)\n",
    "rv\n",
    "```"
   ]
  },
  {
   "cell_type": "code",
   "execution_count": 63,
   "id": "430e3b96-04ba-4e04-a98f-4a52fb1fbe3e",
   "metadata": {},
   "outputs": [
    {
     "data": {
      "text/plain": [
       "12.3"
      ]
     },
     "execution_count": 63,
     "metadata": {},
     "output_type": "execute_result"
    }
   ],
   "source": [
    "mysum2 = lambda a, b: a + b   \n",
    "\n",
    "rv = mysum2(5.3, 7)\n",
    "rv\n"
   ]
  },
  {
   "cell_type": "code",
   "execution_count": 64,
   "id": "7f2312ee-e407-4b87-a95b-994b0719fa33",
   "metadata": {},
   "outputs": [
    {
     "data": {
      "text/plain": [
       "14.5"
      ]
     },
     "execution_count": 64,
     "metadata": {},
     "output_type": "execute_result"
    }
   ],
   "source": [
    "mysum3 = lambda a, b, c: a + b + c  \n",
    "\n",
    "rv = mysum3(5.5, 6.3, 2.7)         # return type corresponds to the expression\n",
    "rv"
   ]
  },
  {
   "cell_type": "markdown",
   "id": "d03b207d-7ad2-45ef-aeab-11346a2dcc00",
   "metadata": {},
   "source": [
    "### c. Example 4: A function that is passed one argument and it returns True if it is even and False otherwise"
   ]
  },
  {
   "cell_type": "code",
   "execution_count": 65,
   "id": "7bd26cf7-f8b8-4f56-bbca-4c02c50f7750",
   "metadata": {},
   "outputs": [
    {
     "data": {
      "text/plain": [
       "False"
      ]
     },
     "execution_count": 65,
     "metadata": {},
     "output_type": "execute_result"
    }
   ],
   "source": [
    "even = lambda x: x % 2 == 0\n",
    "rv = even(3)         # return type corresponds to the expression\n",
    "rv"
   ]
  },
  {
   "cell_type": "markdown",
   "id": "0de2d825-81c7-4970-9b95-9fbe1cb33849",
   "metadata": {},
   "source": [
    "### d. Example 5: A function that is passed a string and returns the first character of that string"
   ]
  },
  {
   "cell_type": "code",
   "execution_count": 66,
   "id": "18e9dce6-fa29-4f1e-ba15-f0deac879e6e",
   "metadata": {},
   "outputs": [
    {
     "data": {
      "text/plain": [
       "'H'"
      ]
     },
     "execution_count": 66,
     "metadata": {},
     "output_type": "execute_result"
    }
   ],
   "source": [
    "func = lambda s: s[0]\n",
    "rv = func(\"Hello\")\n",
    "rv"
   ]
  },
  {
   "cell_type": "markdown",
   "id": "c139d9ea-a7b5-48e3-af6d-b0f54af81857",
   "metadata": {},
   "source": [
    "### e. Example 6: A function that is passed a string, it returns the reverse of that string"
   ]
  },
  {
   "cell_type": "code",
   "execution_count": 67,
   "id": "337f4535-da48-461a-956e-62702d4b7d69",
   "metadata": {},
   "outputs": [
    {
     "data": {
      "text/plain": [
       "'olleH'"
      ]
     },
     "execution_count": 67,
     "metadata": {},
     "output_type": "execute_result"
    }
   ],
   "source": [
    "func = lambda s: s[::-1]\n",
    "\n",
    "rv = func(\"Hello\")\n",
    "rv"
   ]
  },
  {
   "cell_type": "markdown",
   "id": "3afd3470-5c84-4d55-9d50-ee6f53b4a38c",
   "metadata": {},
   "source": [
    "### f. Example 7: A function that is passed a list and it returns the length of the list"
   ]
  },
  {
   "cell_type": "code",
   "execution_count": 68,
   "id": "842f0e66-73e2-4e0e-aa7a-b0c52bce63d7",
   "metadata": {},
   "outputs": [
    {
     "data": {
      "text/plain": [
       "54"
      ]
     },
     "execution_count": 68,
     "metadata": {},
     "output_type": "execute_result"
    }
   ],
   "source": [
    "func = lambda arg: len(arg)\n",
    "\n",
    "list1 = ['Learning', 'is', 'fun', 'with', 'arif']\n",
    "rv = func(list1)\n",
    "rv"
   ]
  },
  {
   "cell_type": "markdown",
   "id": "86050355-53b0-4b6a-bbbf-31646b77a390",
   "metadata": {},
   "source": [
    ">**The real usage of Python Lambda functions is actually passing them as arguments to other functions like `map()`,`filter()` and `reduce()`**"
   ]
  },
  {
   "cell_type": "markdown",
   "id": "dd90eb62-0298-49c4-9559-a6dca5c15dd7",
   "metadata": {},
   "source": [
    "## 2. Using Lambda Function as Argument to other Functions"
   ]
  },
  {
   "cell_type": "markdown",
   "id": "36a8a3e5-14ba-4b62-938d-0d5c2e70c50c",
   "metadata": {},
   "source": [
    "**Three regular function definitions and their calling convention**"
   ]
  },
  {
   "cell_type": "code",
   "execution_count": 69,
   "id": "ab57076c-654e-4034-85c5-e1c0415ca847",
   "metadata": {},
   "outputs": [
    {
     "data": {
      "text/plain": [
       "(10, 6, 16)"
      ]
     },
     "execution_count": 69,
     "metadata": {},
     "output_type": "execute_result"
    }
   ],
   "source": [
    "# Some basic functions that receives two arguments and return their sum, diff, mul\n",
    "def myadd(a, b):\n",
    "    return a + b\n",
    "\n",
    "def mysub(a, b):\n",
    "    return a - b\n",
    "\n",
    "def mymul(a, b):\n",
    "    return a * b\n",
    "\n",
    "# Calling above functions\n",
    "rv1 = myadd(8,2)\n",
    "rv2 = mysub(8, 2)\n",
    "rv3 = mymul(8, 2)\n",
    "rv1, rv2, rv3"
   ]
  },
  {
   "cell_type": "markdown",
   "id": "98600bd1-321d-4ba3-9f1c-828625bcd6a9",
   "metadata": {},
   "source": [
    "**We can write above three functions as lambda functions**"
   ]
  },
  {
   "cell_type": "code",
   "execution_count": 70,
   "id": "dd3804fe-006c-4044-a585-778a94338770",
   "metadata": {},
   "outputs": [],
   "source": [
    "myadd = lambda a, b: a+b\n",
    "mysub = lambda a, b: a-b\n",
    "mymul = lambda a, b: a*b"
   ]
  },
  {
   "cell_type": "markdown",
   "id": "495cfa34-b3ca-468a-9dee-7ca25b1ba98d",
   "metadata": {},
   "source": [
    "**Now, let us write a calculator function that other than receiving two arguments, also receives a function name which specifies the operation that needs to be performed on the arguments**"
   ]
  },
  {
   "cell_type": "code",
   "execution_count": 71,
   "id": "9f7311d3-0ca9-4062-a461-5b33c22a17e8",
   "metadata": {},
   "outputs": [],
   "source": [
    "def mycalc(op, a, b):\n",
    "    return op(a,b)"
   ]
  },
  {
   "cell_type": "code",
   "execution_count": 72,
   "id": "f499246f-1449-486e-b3ef-510da7755dbc",
   "metadata": {},
   "outputs": [
    {
     "data": {
      "text/plain": [
       "(10, 6, 16)"
      ]
     },
     "execution_count": 72,
     "metadata": {},
     "output_type": "execute_result"
    }
   ],
   "source": [
    "rv1 = mycalc(myadd, 8, 2)\n",
    "rv2 = mycalc(mysub, 8, 2)\n",
    "rv3 = mycalc(mymul, 8, 2)\n",
    "\n",
    "rv1, rv2, rv3"
   ]
  },
  {
   "cell_type": "markdown",
   "id": "135ece49-0bb2-434c-9433-1577dc12e53b",
   "metadata": {},
   "source": [
    "**A more elegant way of writing above code**"
   ]
  },
  {
   "cell_type": "code",
   "execution_count": 73,
   "id": "9ec33655-8e37-4abf-ad25-bcae9ca616b6",
   "metadata": {},
   "outputs": [
    {
     "data": {
      "text/plain": [
       "(10, 6, 6)"
      ]
     },
     "execution_count": 73,
     "metadata": {},
     "output_type": "execute_result"
    }
   ],
   "source": [
    "rv1 = mycalc(lambda a, b: a + b, 8, 2)\n",
    "rv2 = mycalc(lambda a, b: a - b, 8, 2)\n",
    "rv3 = mycalc(lambda a, b: a - b, 8, 2)\n",
    "\n",
    "rv1, rv2, rv3"
   ]
  },
  {
   "cell_type": "markdown",
   "id": "27081ed0-bd7a-4f14-9c3c-5d795205ee4f",
   "metadata": {},
   "source": [
    "## 3. Using Lambda Function as Argument to built-in `map()` Function\n",
    "- The ```map(aFunction, *iterables)``` function simply returns a map object after applying  `aFunction()` to all the elements of `iterable(s)`. Later you can type cast the map object to appropriate data structure\n",
    "- The original iterable(s) remains unchanged. "
   ]
  },
  {
   "cell_type": "code",
   "execution_count": 74,
   "id": "fd2d3bdb-71e0-49d4-b942-5731fa2dfb2a",
   "metadata": {},
   "outputs": [
    {
     "name": "stdout",
     "output_type": "stream",
     "text": [
      "Help on class map in module builtins:\n",
      "\n",
      "class map(object)\n",
      " |  map(func, *iterables) --> map object\n",
      " |\n",
      " |  Make an iterator that computes the function using arguments from\n",
      " |  each of the iterables.  Stops when the shortest iterable is exhausted.\n",
      " |\n",
      " |  Methods defined here:\n",
      " |\n",
      " |  __getattribute__(self, name, /)\n",
      " |      Return getattr(self, name).\n",
      " |\n",
      " |  __iter__(self, /)\n",
      " |      Implement iter(self).\n",
      " |\n",
      " |  __next__(self, /)\n",
      " |      Implement next(self).\n",
      " |\n",
      " |  __reduce__(...)\n",
      " |      Return state information for pickling.\n",
      " |\n",
      " |  ----------------------------------------------------------------------\n",
      " |  Static methods defined here:\n",
      " |\n",
      " |  __new__(*args, **kwargs)\n",
      " |      Create and return a new object.  See help(type) for accurate signature.\n",
      "\n"
     ]
    }
   ],
   "source": [
    "help(map)"
   ]
  },
  {
   "cell_type": "markdown",
   "id": "b27dfe42-31b5-4300-925f-aebba0609e74",
   "metadata": {},
   "source": [
    "### a. Example 1: \n",
    "**Given a list of numbers, suppose we want to create a new list in which every element is the square every item of the given list**"
   ]
  },
  {
   "cell_type": "markdown",
   "id": "6a68725c-def9-4b74-9971-473093eb9771",
   "metadata": {},
   "source": [
    "**Option 1: We can do this using a simple loop**"
   ]
  },
  {
   "cell_type": "code",
   "execution_count": 77,
   "id": "f81352b2-b2fa-4611-8cf2-7056f3665651",
   "metadata": {},
   "outputs": [
    {
     "name": "stdout",
     "output_type": "stream",
     "text": [
      "Original list:  [5, 7, 2, 6, 9]\n",
      "List with items squared:  [25, 49, 4, 36, 81]\n"
     ]
    }
   ],
   "source": [
    "mylist = [5, 7, 2, 6, 9]\n",
    "\n",
    "mylist_squared = []    # create an empty list\n",
    "for a in mylist:\n",
    "    mylist_squared.append(a**2)   # append new item at the end of the newly created list\n",
    "\n",
    "print(\"Original list: \", mylist)\n",
    "print(\"List with items squared: \", mylist_squared)"
   ]
  },
  {
   "cell_type": "markdown",
   "id": "221cf511-9e8d-4eb0-8aa9-d3ecee029dd1",
   "metadata": {},
   "source": [
    "**Option 2: We can do this using `map()` function and passing an appropriate regular function as its first argument**"
   ]
  },
  {
   "cell_type": "code",
   "execution_count": 79,
   "id": "6dc0a1e4-5eac-4439-a732-6aad6076e8cb",
   "metadata": {},
   "outputs": [
    {
     "name": "stdout",
     "output_type": "stream",
     "text": [
      "Original list:  [5, 7, 2, 6, 9]\n",
      "List with items squared:  [25, 49, 4, 36, 81]\n"
     ]
    }
   ],
   "source": [
    "mylist = [5, 7, 2, 6, 9]\n",
    "\n",
    "def sqr(x):\n",
    "    return x ** 2\n",
    "\n",
    "\n",
    "map_object = map(sqr, mylist)\n",
    "\n",
    "mylist_squared = list(map_object)\n",
    "\n",
    "print(\"Original list: \", mylist)\n",
    "print(\"List with items squared: \", mylist_squared)"
   ]
  },
  {
   "cell_type": "markdown",
   "id": "3308fc0b-afd0-493e-8144-1243799b99c7",
   "metadata": {},
   "source": [
    "- We passed a user defined function `sqr(x)`, to the `map` function, along with the list of items on which to apply that function\n",
    "- `map()` function calls `sqr()` function on each list item and collects all the return values into a map object, which is type casted to a list\n",
    "- Since `map()` expects a function to be passed in, so this is where we can also use lambda functions as shown below"
   ]
  },
  {
   "cell_type": "markdown",
   "id": "26e792ed-5b3d-4b10-b0dd-55b1c49cb599",
   "metadata": {},
   "source": [
    "**Let us use Lambda Function as key argument to `map()` function to perform the above task**"
   ]
  },
  {
   "cell_type": "code",
   "execution_count": 82,
   "id": "c8958c8e-68be-4a9a-a1a1-e42b4ee9d7ff",
   "metadata": {},
   "outputs": [
    {
     "name": "stdout",
     "output_type": "stream",
     "text": [
      "Original list:  [5, 7, 2, 6, 9]\n",
      "List with items squared:  [25, 49, 4, 36, 81]\n"
     ]
    }
   ],
   "source": [
    "mylist = [5, 7, 2, 6, 9]\n",
    "\n",
    "map_object = map(lambda x: x ** 2 , mylist)\n",
    "\n",
    "mylist_squared = list(map_object)\n",
    "\n",
    "print(\"Original list: \", mylist)\n",
    "print(\"List with items squared: \", mylist_squared)"
   ]
  },
  {
   "cell_type": "markdown",
   "id": "7dc92668-e495-4969-bb3f-205e6a1dea5b",
   "metadata": {},
   "source": [
    "**Let us do this with List comprehension**"
   ]
  },
  {
   "cell_type": "code",
   "execution_count": 84,
   "id": "d2b58d57-e695-4f2d-a745-801ff6960d0e",
   "metadata": {},
   "outputs": [
    {
     "data": {
      "text/plain": [
       "[25, 49, 4, 36, 81]"
      ]
     },
     "execution_count": 84,
     "metadata": {},
     "output_type": "execute_result"
    }
   ],
   "source": [
    "mylist = [5, 7, 2, 6, 9]\n",
    "newlist = [i**2 for i in mylist]\n",
    "newlist"
   ]
  },
  {
   "cell_type": "markdown",
   "id": "d61e5641-5ce1-405b-b9a3-9a4e2dbedb36",
   "metadata": {},
   "source": [
    "### b. Example 2: \n",
    "**Given a list of numbers, suppose we want to create a new list in which every element is the remainder once the original list element is divided by 5**"
   ]
  },
  {
   "cell_type": "code",
   "execution_count": 86,
   "id": "91866839-dbc1-4868-ba37-be57a9f29989",
   "metadata": {},
   "outputs": [
    {
     "name": "stdout",
     "output_type": "stream",
     "text": [
      "Original list:  [74, 85, 14, 23, 56, 32, 45]\n",
      "List of remainders:  [4, 0, 4, 3, 1, 2, 0]\n"
     ]
    }
   ],
   "source": [
    "mylist = [74, 85, 14, 23, 56, 32, 45 ]\n",
    "\n",
    "map_object = map(lambda num: num%5, mylist)\n",
    "\n",
    "remainders = list(map_object)\n",
    "\n",
    "print(\"Original list: \", mylist)\n",
    "print(\"List of remainders: \", remainders)"
   ]
  },
  {
   "cell_type": "markdown",
   "id": "79ca8c8d-c58f-44d2-b8c3-6263437f5377",
   "metadata": {},
   "source": [
    "### c. Example 3: \n",
    "**Suppose we want to add two lists**"
   ]
  },
  {
   "cell_type": "code",
   "execution_count": 88,
   "id": "ccb81f4f-581c-44d0-8c20-41f88958b3b6",
   "metadata": {},
   "outputs": [
    {
     "name": "stdout",
     "output_type": "stream",
     "text": [
      "Sum of the two lists:  [7, 9, 5, 8]\n"
     ]
    }
   ],
   "source": [
    "mylist1 = [4, 8, 3, 2]\n",
    "mylist2 = [3, 1, 2, 6]\n",
    "\n",
    "result = map(lambda a, b: a + b, mylist1, mylist2) #two arguments are passed to lambda func (one from each list)\n",
    "result = list(result)\n",
    "\n",
    "print(\"Sum of the two lists: \", result)"
   ]
  },
  {
   "cell_type": "markdown",
   "id": "fe8fc952-581b-4e49-8820-ad4da54dc401",
   "metadata": {},
   "source": [
    "### d. Example 4: \n",
    "**Given a list of strings, suppose we want to create another list that contains the length of each string in the list**"
   ]
  },
  {
   "cell_type": "code",
   "execution_count": 90,
   "id": "e5debffa-715b-4117-bcc9-b9d9a548ec61",
   "metadata": {},
   "outputs": [
    {
     "name": "stdout",
     "output_type": "stream",
     "text": [
      "Length of Strings in list1:  [54, 54, 54, 54]\n"
     ]
    }
   ],
   "source": [
    "list1 = ('Mujahid', 'Arif Butt', 'Kakamanna', 'Maaz')\n",
    "\n",
    "result = map(lambda a: len(a), list1)\n",
    "result = list(result)\n",
    "\n",
    "print(\"Length of Strings in list1: \", result)"
   ]
  },
  {
   "cell_type": "markdown",
   "id": "1ed64477-32bb-4686-be52-b0668116d730",
   "metadata": {},
   "source": [
    "## 4. Using Lambda Function as Argument to built-in `filter()` Function\n",
    "```\n",
    "filter(function or None, iterable)\n",
    "```\n",
    "- The `filter()` function offers a convenient way to filter out all the elements of an iterable, for which the function returns true.\n",
    "- If function argument is None, return the items that are itself True.\n",
    "- The filter object contains only those items of iterable for which  `function(item)` returns True. \n",
    "- The original iterable remains unchanged. \n",
    "- The filter object can be converted to a list using the `list()` function"
   ]
  },
  {
   "cell_type": "markdown",
   "id": "86915acb-09c3-49b4-9687-c98dabcbbb73",
   "metadata": {},
   "source": [
    "### a. Example 1: \n",
    "**A very basic usage of `filter()`, that returns the True elements of a list**\n",
    "- In Python, the following objects are considered false:\n",
    "    >- Constants like `None` and `False`\n",
    "    >- Numeric types having values: 0, 0.0, 0j\n",
    "    >- Empty sequences and collections like `\"\"`, `()`, `[]`, `{}`, `set()`, and `range(0)`"
   ]
  },
  {
   "cell_type": "code",
   "execution_count": 93,
   "id": "f0ae6c03-70c5-4a51-a9ef-c70f9eeb6a89",
   "metadata": {},
   "outputs": [
    {
     "name": "stdout",
     "output_type": "stream",
     "text": [
      "<filter object at 0x000002A16A3E2E60>\n",
      "[5, -3, True, 9, 8]\n"
     ]
    }
   ],
   "source": [
    "mylist = [5, 0, -3, {}, False, 0.0, True, 9, 0j, (), None, 8]\n",
    "\n",
    "result = filter(None, mylist)\n",
    "print(result)\n",
    "print(list(result))"
   ]
  },
  {
   "cell_type": "markdown",
   "id": "47cd154a-bd50-4505-8790-493a2ac227a7",
   "metadata": {},
   "source": [
    "### b. Example 2: \n",
    "**Suppose we want to extract even numbers from a list**"
   ]
  },
  {
   "cell_type": "code",
   "execution_count": 95,
   "id": "bc13232a-6868-4a7e-9923-733b27881929",
   "metadata": {},
   "outputs": [
    {
     "name": "stdout",
     "output_type": "stream",
     "text": [
      "Even numbers in the list are:  [4, 6, 8, 12]\n"
     ]
    }
   ],
   "source": [
    "numbers = [1, 5, 4, 6, 8, 11, 3, 12]\n",
    "\n",
    "result = filter(lambda x: x%2 == 0 , numbers)\n",
    "\n",
    "result = list(result)\n",
    "\n",
    "print(\"Even numbers in the list are: \", result)"
   ]
  },
  {
   "cell_type": "markdown",
   "id": "70fdd197-accb-4e76-9909-55b321d4edcb",
   "metadata": {},
   "source": [
    "**Let us do it using List Comprehension**"
   ]
  },
  {
   "cell_type": "code",
   "execution_count": 97,
   "id": "dfdedbb4-84bb-4e3a-98f8-d359d8d97d1d",
   "metadata": {},
   "outputs": [
    {
     "data": {
      "text/plain": [
       "[4, 6, 8, 12]"
      ]
     },
     "execution_count": 97,
     "metadata": {},
     "output_type": "execute_result"
    }
   ],
   "source": [
    "numbers = [1, 5, 4, 6, 8, 11, 3, 12]\n",
    "newlist = [i for i in numbers if i%2 == 0]\n",
    "newlist"
   ]
  },
  {
   "cell_type": "markdown",
   "id": "717c0f43-7119-4289-9de6-0fcd69be14c5",
   "metadata": {},
   "source": [
    "### c. Example 3: \n",
    "**Suppose we want to extract negative numbers from a list**"
   ]
  },
  {
   "cell_type": "code",
   "execution_count": 99,
   "id": "541ed24b-7773-4e4e-bb5e-c8ba016d255b",
   "metadata": {},
   "outputs": [
    {
     "name": "stdout",
     "output_type": "stream",
     "text": [
      "Negative numbers in the list are:  [-3, -8, -3, -7]\n"
     ]
    }
   ],
   "source": [
    "numbers = [25, -3, -8, 17, 3, 8, -3, 6, -7, 0]\n",
    "\n",
    "result = filter(lambda x: x<0, numbers)\n",
    "\n",
    "result = list(result)\n",
    "\n",
    "print(\"Negative numbers in the list are: \", result)"
   ]
  },
  {
   "cell_type": "markdown",
   "id": "95f8ba83-4ff2-43da-b220-dcb30ffc126a",
   "metadata": {},
   "source": [
    "### d. Example 4: \n",
    "**Suppose we want to extract vowels from a list of alphabets**"
   ]
  },
  {
   "cell_type": "code",
   "execution_count": 101,
   "id": "46828b74-b753-4ac1-82ec-d98f01dd491c",
   "metadata": {},
   "outputs": [
    {
     "name": "stdout",
     "output_type": "stream",
     "text": [
      "Vowels in the list are:  ['i', 'a', 'e']\n"
     ]
    }
   ],
   "source": [
    "characters = ['i', 'z', 'b', 'a', 'd', 'f', 't', 'e','w', 'x']\n",
    "\n",
    "vowels = ['a', 'e', 'i', 'o', 'u']\n",
    "    \n",
    "result = filter(lambda x: x in vowels, characters)\n",
    "\n",
    "result = list(result)    \n",
    "print(\"Vowels in the list are: \", result)"
   ]
  },
  {
   "cell_type": "markdown",
   "id": "7c61c9b6-5df5-4e29-af7f-f9d3333fa2de",
   "metadata": {},
   "source": [
    "## 5. Using Lambda Function as Argument to built-in `reduce()` Function\n",
    "- The `reduce()` works differently than `map()` and `filter()`. It does not return a new iterable based on the function and iterable we've passed. Instead, it returns a single value.\n",
    "```\n",
    "reduce(func, sequence[, initial])\n",
    "```\n",
    "<img align=\"right\" width=\"300\" height=\"300\"  src=\"images/reduce.png\" > \n",
    "\n",
    "- If seq = `[ s1, s2, s3, ... , sn ]`, then calling `reduce(func, seq)` works like this:\n",
    "    - Apply `func` argument to the first two items in the iterable and generate a partial result, i.e. `func(s1,s2)`\n",
    "    - The list on which `reduce()` works looks now like this: `[ func(s1, s2), s3, ... , sn ]`\n",
    "    - In the next step the function will be applied on the previous result and the third element of the list, i.e. `func(func(s1, s2),s3)`\n",
    "    - The list looks like this now: `[ function(function(s1, s2),s3), ... , sn ]`\n",
    "    - It continues like this until just one element is left and return this element as the result of `reduce()`\n",
    "- If initial is present, it is placed before the items of the sequence in the calculation, and serves as a default when the sequence is empty. The optional argument `initial` when provided is used as the 0th element\n",
    "- In Python 3.x, if you need to use `reduce()`, then you first have to import the function into your current scope using an import statement in one of the following ways:\n",
    "    - `import functools` and then use fully-qualified names like functools.reduce().\n",
    "    - `from functools import reduce` and then call reduce() directly.\n",
    "    "
   ]
  },
  {
   "cell_type": "markdown",
   "id": "789158e3-c78f-48d1-973f-5705ffc6ae13",
   "metadata": {},
   "source": [
    "### a. Example 1: \n",
    "**Suppose given a list of numbers and we want to get the accumulative sum of all the numbers in that list**"
   ]
  },
  {
   "cell_type": "markdown",
   "id": "adedbc6a-b6e6-4fc3-9728-7a1d6eb0cc81",
   "metadata": {},
   "source": [
    "**Option 1: We can do this using a simple loop**"
   ]
  },
  {
   "cell_type": "code",
   "execution_count": 105,
   "id": "54892787-709d-4a4e-a229-1e5e5df5cf8d",
   "metadata": {},
   "outputs": [
    {
     "data": {
      "text/plain": [
       "113"
      ]
     },
     "execution_count": 105,
     "metadata": {},
     "output_type": "execute_result"
    }
   ],
   "source": [
    "numbers = [47, 11, 42, 13]\n",
    "total = 0\n",
    "\n",
    "for i in numbers:\n",
    "    total += i\n",
    "\n",
    "total"
   ]
  },
  {
   "cell_type": "markdown",
   "id": "178bf265-28df-454b-9002-ce794410e274",
   "metadata": {},
   "source": [
    "**Option 2: We can do this using `reduce()` function and passing an appropriate regular function as its first argument. Remember this has to be a function that receives two arguments**"
   ]
  },
  {
   "cell_type": "code",
   "execution_count": 107,
   "id": "f364bf4a-ea1c-4240-aec9-f7222a31063b",
   "metadata": {},
   "outputs": [
    {
     "data": {
      "text/plain": [
       "113"
      ]
     },
     "execution_count": 107,
     "metadata": {},
     "output_type": "execute_result"
    }
   ],
   "source": [
    "#Example: Note the call to reduce(), \n",
    "# applies myadd() to the items in the numbers list to compute their accumulative sum    \n",
    "\n",
    "from functools import reduce\n",
    "def myadd(a,b):\n",
    "    return a+b\n",
    "\n",
    "numbers = [47, 11, 42, 13]\n",
    "\n",
    "rv = reduce(myadd, numbers)\n",
    "rv"
   ]
  },
  {
   "cell_type": "markdown",
   "id": "c32f6159-737e-4def-8f82-81539ad455c8",
   "metadata": {},
   "source": [
    "**Option 3: Let us use Lambda Function as first argument to `reduce()` function to perform the above task**"
   ]
  },
  {
   "cell_type": "code",
   "execution_count": 109,
   "id": "027f9822-25b3-47fe-a4c7-b52481e69595",
   "metadata": {},
   "outputs": [
    {
     "data": {
      "text/plain": [
       "113"
      ]
     },
     "execution_count": 109,
     "metadata": {},
     "output_type": "execute_result"
    }
   ],
   "source": [
    "# Example: Use lambda function for above task\n",
    "from functools import reduce\n",
    "numbers = [47, 11, 42, 13]\n",
    "\n",
    "rv = reduce(lambda x,y: x+y, numbers)\n",
    "rv"
   ]
  },
  {
   "cell_type": "markdown",
   "id": "6dea409f-80cb-478e-8894-2425aa13a20b",
   "metadata": {},
   "source": [
    "**Let us now understand the initial argument to `reduce()` function**\n",
    "```\n",
    "reduce(func, sequence[, initial])\n",
    "```"
   ]
  },
  {
   "cell_type": "code",
   "execution_count": 111,
   "id": "92a3cd83-3d13-48c8-9647-0230e3ab6f22",
   "metadata": {},
   "outputs": [
    {
     "data": {
      "text/plain": [
       "123"
      ]
     },
     "execution_count": 111,
     "metadata": {},
     "output_type": "execute_result"
    }
   ],
   "source": [
    "# Example: Use of initial argument of reduce() function\n",
    "from functools import reduce\n",
    "numbers = [47, 11, 42, 13]\n",
    "\n",
    "rv = reduce(lambda x,y:x+y, numbers, 10)\n",
    "rv"
   ]
  },
  {
   "cell_type": "markdown",
   "id": "6cdc1108-9526-4e56-bfbb-f1099e215ba1",
   "metadata": {},
   "source": [
    "### b. Example 2: \n",
    "**Multiplying all numeric values of a list with each other**"
   ]
  },
  {
   "cell_type": "code",
   "execution_count": 113,
   "id": "e87b9582-2f89-4f50-94f8-73664c134b56",
   "metadata": {},
   "outputs": [
    {
     "data": {
      "text/plain": [
       "120"
      ]
     },
     "execution_count": 113,
     "metadata": {},
     "output_type": "execute_result"
    }
   ],
   "source": [
    "from functools import reduce\n",
    "numbers = [1, 2, 3, 4, 5]\n",
    "\n",
    "rv = reduce(lambda x,y: x*y, numbers)\n",
    "rv"
   ]
  },
  {
   "cell_type": "markdown",
   "id": "4eb79d76-8eb5-49c6-926e-280c6273fd5c",
   "metadata": {},
   "source": [
    "### c. Example 3: \n",
    "**Finding minimum or maximum number from a list of numbers**"
   ]
  },
  {
   "cell_type": "code",
   "execution_count": 115,
   "id": "cd5bd7a5-a40b-4d80-a6a9-af4dad68341c",
   "metadata": {},
   "outputs": [
    {
     "data": {
      "text/plain": [
       "0"
      ]
     },
     "execution_count": 115,
     "metadata": {},
     "output_type": "execute_result"
    }
   ],
   "source": [
    "numbers = [-10, -20, -93, -4, -5]\n",
    "\n",
    "\n",
    "rv1 = reduce(lambda a, b: a if a > b else b, numbers, 0)\n",
    "\n",
    "\n",
    "rv1"
   ]
  },
  {
   "cell_type": "code",
   "execution_count": 170,
   "id": "6a9572e6-69e2-4f8b-96a3-5d31cf459a27",
   "metadata": {},
   "outputs": [
    {
     "data": {
      "text/plain": [
       "(4, 93)"
      ]
     },
     "execution_count": 170,
     "metadata": {},
     "output_type": "execute_result"
    }
   ],
   "source": [
    "from functools import reduce\n",
    "numbers = [10, 20, 93, 4, 5]\n",
    "\n",
    "\n",
    "rv1 = reduce(lambda a, b: a if a < b else b, numbers)\n",
    "rv2 = reduce(lambda a, b: a if a > b else b, numbers)\n",
    "\n",
    "rv1, rv2"
   ]
  },
  {
   "cell_type": "markdown",
   "id": "b53b6f70-43f0-431d-ba5d-31d0a41b920d",
   "metadata": {},
   "source": [
    "### d. Example 4: \n",
    "**Checking if ALL values in an iterable are true**"
   ]
  },
  {
   "cell_type": "code",
   "execution_count": 118,
   "id": "5e6a2c93-3b74-4a33-bdb5-bc645468a4f5",
   "metadata": {},
   "outputs": [
    {
     "data": {
      "text/plain": [
       "False"
      ]
     },
     "execution_count": 118,
     "metadata": {},
     "output_type": "execute_result"
    }
   ],
   "source": [
    "from functools import reduce\n",
    "mylist = [0, 0, 1, 0, 0]\n",
    "\n",
    "rv = reduce(lambda a, b: bool(a and b), mylist)\n",
    "rv\n"
   ]
  },
  {
   "cell_type": "markdown",
   "id": "949480da-4a31-48aa-a14b-d685120e7b7b",
   "metadata": {},
   "source": [
    "### e. Example 5: \n",
    "**Checking if ANY value in an iterable is true**"
   ]
  },
  {
   "cell_type": "code",
   "execution_count": 120,
   "id": "3ae51990-5650-42f9-bc69-785c1b198db7",
   "metadata": {},
   "outputs": [
    {
     "data": {
      "text/plain": [
       "True"
      ]
     },
     "execution_count": 120,
     "metadata": {},
     "output_type": "execute_result"
    }
   ],
   "source": [
    "from functools import reduce\n",
    "mylist = [0, 0, 1, 0, 0]\n",
    "\n",
    "rv = reduce(lambda a, b: bool(a | b), mylist)\n",
    "rv\n"
   ]
  },
  {
   "cell_type": "markdown",
   "id": "a1d11547-1fb3-4e3d-9f6d-c120521bd627",
   "metadata": {},
   "source": [
    "## 6. Using Lambda Function as Argument to built-in `sorted()` Function\n",
    "- We have already seen the use of `sorted()` function in our previous session of Tuples.\n",
    "- The only required argument to `sorted()` function is an iterable. \n",
    "- It sorts the items of the given iterable in ascending order (by default) and returns the sorted iterable as a list, without modifying the original iterable.\n",
    "```\n",
    "sorted(iterable, key=None, reverse=False)\n",
    "```\n",
    "We also have seen the use of `key` argument, where we can pass a function that is applied once to each element of the iterable before sorting it."
   ]
  },
  {
   "cell_type": "markdown",
   "id": "34e39cbd-ba37-465b-8b8c-71fa95827bc9",
   "metadata": {},
   "source": [
    "### a. Example 1: \n",
    "**Consider a tuple of strings `('abcz', 'xyza', 'bas', 'arif')`. If we pass this tuple to `sorted()` function, it will sort the list alphabatically.**"
   ]
  },
  {
   "cell_type": "code",
   "execution_count": 123,
   "id": "b7d4830b-7dae-4d88-98a3-c84752a52d17",
   "metadata": {},
   "outputs": [
    {
     "name": "stdout",
     "output_type": "stream",
     "text": [
      "Sorted tuple:  ['abcz', 'arif', 'bas', 'xyza']\n",
      "Original tuple remains as such:  ('abcz', 'xyza', 'bas', 'arif')\n"
     ]
    }
   ],
   "source": [
    "t1 = ('abcz', 'xyza', 'bas', 'arif')\n",
    "\n",
    "rv = sorted(t1)\n",
    "\n",
    "print(\"Sorted tuple: \", rv)\n",
    "print(\"Original tuple remains as such: \", t1)"
   ]
  },
  {
   "cell_type": "markdown",
   "id": "471b08c8-9acd-43f2-ac9c-55962b63c17b",
   "metadata": {},
   "source": [
    "**Suppose, we want to sort the above tuple by last character of strings within the tuple so that the output is like : `('xyza', 'arif', 'bas', 'abcz')`. We can do this by passing an appropriate regular function to `key` argument of the `sorted()` function**"
   ]
  },
  {
   "cell_type": "code",
   "execution_count": 125,
   "id": "90a403cc-ad5d-41f2-b59c-08f0ec131c72",
   "metadata": {},
   "outputs": [
    {
     "name": "stdout",
     "output_type": "stream",
     "text": [
      "Sorted tuple:  ['xyza', 'arif', 'bas', 'abcz']\n",
      "Original tuple remains as such:  ('abcz', 'xyza', 'bas', 'arif')\n"
     ]
    }
   ],
   "source": [
    "def last(s):\n",
    "    return s[-1]\n",
    "\n",
    "t1 = ('abcz', 'xyza', 'bas', 'arif')\n",
    "rv = sorted(t1, key=last)\n",
    "\n",
    "print(\"Sorted tuple: \", rv)\n",
    "print(\"Original tuple remains as such: \", t1)"
   ]
  },
  {
   "cell_type": "markdown",
   "id": "8faa04c0-3b84-41cb-87ce-f26d2d99f5d3",
   "metadata": {},
   "source": [
    "**Let us use Lambda Function as `key` argument to `sorted()` function to perform the above task**"
   ]
  },
  {
   "cell_type": "code",
   "execution_count": 127,
   "id": "78c9520f-5030-47cb-bf05-b9b54b55368f",
   "metadata": {},
   "outputs": [
    {
     "name": "stdout",
     "output_type": "stream",
     "text": [
      "Sorted tuple:  ['xyza', 'arif', 'bas', 'abcz']\n",
      "Original tuple remains as such:  ('abcz', 'xyza', 'bas', 'arif')\n"
     ]
    }
   ],
   "source": [
    "t1 = ('abcz', 'xyza', 'bas', 'arif')\n",
    "\n",
    "rv = sorted(t1, key = lambda arg : arg[-1])\n",
    "\n",
    "print(\"Sorted tuple: \", rv)\n",
    "print(\"Original tuple remains as such: \", t1)"
   ]
  },
  {
   "cell_type": "markdown",
   "id": "efa757ae-3341-4979-9af9-6d620180580f",
   "metadata": {},
   "source": [
    "### b. Example 2: \n",
    "**Suppose given a list in which each element is a two valued tuple `[(4, 30), (6, 15), (1, 25), (9, 8)]`. If we call `sorted()` function on this list it will sort it based on the first element of each tuple.**"
   ]
  },
  {
   "cell_type": "markdown",
   "id": "ac39d4ea-f0e6-4892-89b0-2ae2190bc3a2",
   "metadata": {},
   "source": [
    "**Simple sorting of above list using `sorted()` function, will sort by first element**"
   ]
  },
  {
   "cell_type": "code",
   "execution_count": 130,
   "id": "da5ca5ca-0873-40c0-b910-731e411e38ca",
   "metadata": {},
   "outputs": [
    {
     "data": {
      "text/plain": [
       "[(1, 25), (4, 30), (6, 15), (9, 8)]"
      ]
     },
     "execution_count": 130,
     "metadata": {},
     "output_type": "execute_result"
    }
   ],
   "source": [
    "mylist = [(4, 30), (6, 15), (1, 25), (9, 8)]\n",
    "\n",
    "\n",
    "mylist_sorted = sorted(mylist)\n",
    "\n",
    "mylist_sorted\n"
   ]
  },
  {
   "cell_type": "markdown",
   "id": "14af2360-2aa3-45ad-9b6c-359a423c7a7f",
   "metadata": {},
   "source": [
    "**But we want to sort the above list based on the second element of each tuple, so that the output is like: `[(9, 8), (6, 15), (1, 25), (4, 30)]`. We can do this by passing an appropriate regular function to `key` argument of the `sorted()` function**"
   ]
  },
  {
   "cell_type": "code",
   "execution_count": 132,
   "id": "fdb0beaa-1281-43fa-a18e-149df0a72be3",
   "metadata": {},
   "outputs": [
    {
     "data": {
      "text/plain": [
       "[(9, 8), (6, 15), (1, 25), (4, 30)]"
      ]
     },
     "execution_count": 132,
     "metadata": {},
     "output_type": "execute_result"
    }
   ],
   "source": [
    "mylist = [(4, 30), (6, 15), (1, 25), (9, 8)]\n",
    "\n",
    "def func(item):\n",
    "    return item[1]\n",
    "\n",
    "mylist_sorted = sorted(mylist, key = func)\n",
    "\n",
    "mylist_sorted"
   ]
  },
  {
   "cell_type": "markdown",
   "id": "80b1ca4c-f105-4c83-8e39-52e106328d90",
   "metadata": {},
   "source": [
    "**Let us use Lambda Function as `key` argument to `sorted()` function to perform the above task**"
   ]
  },
  {
   "cell_type": "code",
   "execution_count": 134,
   "id": "1c74e888-32e8-40fe-82ae-0503c2d87434",
   "metadata": {},
   "outputs": [
    {
     "data": {
      "text/plain": [
       "[(9, 8), (6, 15), (1, 25), (4, 30)]"
      ]
     },
     "execution_count": 134,
     "metadata": {},
     "output_type": "execute_result"
    }
   ],
   "source": [
    "mylist = [(4, 30), (6, 15), (1, 25), (9, 8)]\n",
    "\n",
    "mylist_sorted = sorted(mylist, key = lambda element:element[1])\n",
    "\n",
    "mylist_sorted"
   ]
  },
  {
   "cell_type": "markdown",
   "id": "e9b94bfb-c458-4bf5-aea4-04de8e3a85c1",
   "metadata": {},
   "source": [
    "## 7.  Bonus"
   ]
  },
  {
   "cell_type": "markdown",
   "id": "fc711249-1939-4bee-9690-02a62bd7ea54",
   "metadata": {},
   "source": [
    "### a. The `zip()` Function\n",
    "- The `zip(*iterables)` function returns an iterator of tuples, where the i-th tuple contains the i-th element from each of the argument sequences or iterables. \n",
    "- The iterator stops when the shortest input iterable is exhausted. \n",
    "- With a single iterable argument, it returns an iterator of 1-tuples. With no arguments, it returns an empty iterator."
   ]
  },
  {
   "cell_type": "code",
   "execution_count": 137,
   "id": "224db239-2a02-4fb4-b91d-0c0033a44eb9",
   "metadata": {},
   "outputs": [
    {
     "data": {
      "text/plain": [
       "[(1, 4), (2, 5), (3, 6)]"
      ]
     },
     "execution_count": 137,
     "metadata": {},
     "output_type": "execute_result"
    }
   ],
   "source": [
    "x = [1,2,3]\n",
    "y = [4,5,6]\n",
    "\n",
    "zip_object = zip(x ,y)\n",
    "\n",
    "mylist = list(zip_object)\n",
    "mylist"
   ]
  },
  {
   "cell_type": "code",
   "execution_count": 138,
   "id": "ac432a27-9508-4fa0-9013-8aafbce475bd",
   "metadata": {},
   "outputs": [
    {
     "data": {
      "text/plain": [
       "[(1, 5, 9), (2, 6, 10), (3, 7, 11), (4, 8, 12)]"
      ]
     },
     "execution_count": 138,
     "metadata": {},
     "output_type": "execute_result"
    }
   ],
   "source": [
    "x = [1, 2, 3, 4]\n",
    "y = [5, 6, 7, 8]\n",
    "z = [9, 10, 11, 12]\n",
    "\n",
    "zip_object = zip(x,y,z)\n",
    "\n",
    "mylist = list(zip_object)\n",
    "mylist"
   ]
  },
  {
   "cell_type": "markdown",
   "id": "303bfdba-94ec-4844-9ac6-8cd74669987b",
   "metadata": {},
   "source": [
    "**The iterator stops when the shortest input iterable is exhausted.**"
   ]
  },
  {
   "cell_type": "code",
   "execution_count": 140,
   "id": "d1e364c5-1062-4c91-bcdc-e8e4350f71e3",
   "metadata": {},
   "outputs": [
    {
     "data": {
      "text/plain": [
       "[(1, 4), (2, 5), (3, 6)]"
      ]
     },
     "execution_count": 140,
     "metadata": {},
     "output_type": "execute_result"
    }
   ],
   "source": [
    "x = [1,2,3]\n",
    "y = [4,5,6,7,8]\n",
    "\n",
    "zip_object = zip(x,y)\n",
    "\n",
    "mylist = list(zip_object)\n",
    "mylist"
   ]
  },
  {
   "cell_type": "markdown",
   "id": "e55355ad-feb8-4422-9d4b-97ce0399f7ab",
   "metadata": {},
   "source": [
    "**With a single iterable argument, it returns an iterator of 1-tuples.**"
   ]
  },
  {
   "cell_type": "code",
   "execution_count": 142,
   "id": "bb5931e3-f84a-4e5e-9053-f20ec86d6306",
   "metadata": {},
   "outputs": [
    {
     "data": {
      "text/plain": [
       "[(1,), (2,), (3,), (4,)]"
      ]
     },
     "execution_count": 142,
     "metadata": {},
     "output_type": "execute_result"
    }
   ],
   "source": [
    "x = [1, 2, 3, 4]\n",
    "\n",
    "zip_object = zip(x)\n",
    "\n",
    "mylist = list(zip_object)\n",
    "mylist"
   ]
  },
  {
   "cell_type": "markdown",
   "id": "f0de4fd6-34e3-4606-8d04-e6c965b37151",
   "metadata": {},
   "source": [
    "**With no arguments, it returns an empty iterator.**"
   ]
  },
  {
   "cell_type": "code",
   "execution_count": 144,
   "id": "c829c32f-15b0-4543-9c6b-7fd3db2723ed",
   "metadata": {},
   "outputs": [
    {
     "data": {
      "text/plain": [
       "[]"
      ]
     },
     "execution_count": 144,
     "metadata": {},
     "output_type": "execute_result"
    }
   ],
   "source": [
    "zip_object = zip()\n",
    "\n",
    "mylist = list(zip_object)\n",
    "mylist"
   ]
  },
  {
   "cell_type": "markdown",
   "id": "d79b917b-9b95-4bca-bc80-2c7ef34a2b60",
   "metadata": {},
   "source": [
    "### b. Iterators and Generators\n",
    "**Iterators:**\n",
    "- In our previous session of `for` loops, we discussed the concept of `Iterator` object, which is used to iterate over iterable objects like lists and tuples.\n",
    "- We also discussed the `iter()` function, which is passed an iterable (list, tuple, ...) and it returns an iterator for that iterable object. \n",
    "- We also discussed the `next()` function, which is passed the iterator object, and each time it is called it returns the next item of that iterator object."
   ]
  },
  {
   "cell_type": "markdown",
   "id": "0eb03dc9-13a2-4e83-909d-c1625a10daea",
   "metadata": {},
   "source": [
    "**Example: Iterator Objects**"
   ]
  },
  {
   "cell_type": "code",
   "execution_count": 171,
   "id": "283b7243-0d46-40fe-b61f-708ec9c5a2a7",
   "metadata": {},
   "outputs": [
    {
     "data": {
      "text/plain": [
       "<list_iterator at 0x2a16a3e2f50>"
      ]
     },
     "execution_count": 171,
     "metadata": {},
     "output_type": "execute_result"
    }
   ],
   "source": [
    "mylist = ['banana', 'mango', 'grapes']\n",
    "a = iter(mylist)\n",
    "a"
   ]
  },
  {
   "cell_type": "code",
   "execution_count": 148,
   "id": "93708355-66fe-4b1e-9421-7fb5333492f0",
   "metadata": {},
   "outputs": [
    {
     "name": "stdout",
     "output_type": "stream",
     "text": [
      "banana\n",
      "mango\n",
      "grapes\n"
     ]
    }
   ],
   "source": [
    "print(next(a))\n",
    "print(next(a))\n",
    "print(next(a))"
   ]
  },
  {
   "cell_type": "code",
   "execution_count": 172,
   "id": "758cd9c5-2cbb-4983-b93e-be8245da8d46",
   "metadata": {},
   "outputs": [
    {
     "data": {
      "text/plain": [
       "'banana'"
      ]
     },
     "execution_count": 172,
     "metadata": {},
     "output_type": "execute_result"
    }
   ],
   "source": [
    "next(a)"
   ]
  },
  {
   "cell_type": "markdown",
   "id": "1d67e3a2-dd4e-4241-bb76-553b74dc02ef",
   "metadata": {},
   "source": [
    "**Generators:**\n",
    "- Today let me tell you as how to write a generator function in Python. A generator is a function that can send back a value and then later resume its execution from where it left off. \n",
    "- A generator function allows us to generate a sequence of values over time. \n",
    "- The main difference between a regular function and a generator function is that instead of using a `return` statement, the generator function uses the `yield` statement\n",
    "- So once a generator function is called, it don't actually return a value and then exit, rather it automatically suspend and resume its execution and state around the last point of value generation. "
   ]
  },
  {
   "cell_type": "markdown",
   "id": "2a9f856a-945b-492b-b728-b55229940979",
   "metadata": {},
   "source": [
    "**Example 1: Writing a Hello World Generator Function to understand the `yield` keyword**"
   ]
  },
  {
   "cell_type": "code",
   "execution_count": 152,
   "id": "ffa3b10d-7e29-40b1-bbca-192a763288c2",
   "metadata": {},
   "outputs": [],
   "source": [
    "def mygenerator():\n",
    "    print('First item')\n",
    "    yield 10\n",
    "\n",
    "    print('Second item')\n",
    "    yield 20\n",
    "\n",
    "    print('Last item')\n",
    "    yield 30"
   ]
  },
  {
   "cell_type": "code",
   "execution_count": 153,
   "id": "69112d96-11ed-439d-8a7a-f1fa7681ae59",
   "metadata": {},
   "outputs": [
    {
     "data": {
      "text/plain": [
       "<generator object mygenerator at 0x000002A16A379FC0>"
      ]
     },
     "execution_count": 153,
     "metadata": {},
     "output_type": "execute_result"
    }
   ],
   "source": [
    "gen = mygenerator() \n",
    "gen"
   ]
  },
  {
   "cell_type": "code",
   "execution_count": 154,
   "id": "e29caa3b-b699-4a8c-aedd-3ad5cbead434",
   "metadata": {},
   "outputs": [
    {
     "name": "stdout",
     "output_type": "stream",
     "text": [
      "First item\n",
      "10\n"
     ]
    }
   ],
   "source": [
    "print(next(gen))"
   ]
  },
  {
   "cell_type": "code",
   "execution_count": 155,
   "id": "337c86fb-d6d6-4416-a9ee-3e33e4176297",
   "metadata": {},
   "outputs": [
    {
     "name": "stdout",
     "output_type": "stream",
     "text": [
      "Second item\n",
      "20\n"
     ]
    }
   ],
   "source": [
    "print(next(gen))"
   ]
  },
  {
   "cell_type": "code",
   "execution_count": 156,
   "id": "cb3a69a7-f019-42dc-baac-9f47f141a02d",
   "metadata": {},
   "outputs": [
    {
     "name": "stdout",
     "output_type": "stream",
     "text": [
      "Last item\n",
      "30\n"
     ]
    }
   ],
   "source": [
    "print(next(gen))"
   ]
  },
  {
   "cell_type": "markdown",
   "id": "d7432a78-50a9-470b-aed8-f7bfadc4887d",
   "metadata": {},
   "source": [
    "**Example 2: Writing a Generator Function that returns cubes of numbers**"
   ]
  },
  {
   "cell_type": "code",
   "execution_count": 158,
   "id": "a165239a-44a6-42b5-a4fb-0cd87a88036b",
   "metadata": {},
   "outputs": [],
   "source": [
    "def gencubes(n):\n",
    "    for num in range(n):\n",
    "        yield num**3"
   ]
  },
  {
   "cell_type": "code",
   "execution_count": 159,
   "id": "2aedd895-e43a-4e03-98a3-0dde0f48dd65",
   "metadata": {},
   "outputs": [
    {
     "name": "stdout",
     "output_type": "stream",
     "text": [
      "0\n",
      "1\n",
      "8\n",
      "27\n",
      "64\n"
     ]
    }
   ],
   "source": [
    "for x in gencubes(5):\n",
    "    print(x)"
   ]
  },
  {
   "cell_type": "markdown",
   "id": "88129fac-afee-4f43-8929-8d69a392cbe3",
   "metadata": {},
   "source": [
    ">**The main advantage of using a generator function over the iterator is that elements are generated dynamically. Since the next item is generated only after the first is consumed, it is more memory efficient than the iterator.**"
   ]
  },
  {
   "cell_type": "markdown",
   "id": "7d498298-147d-4fe2-bbdd-9c715cfb8343",
   "metadata": {},
   "source": [
    "### map() Function:\n",
    "##### Data Transformation:\n",
    "\n",
    "- Scenario: You have a list of values and need to apply a transformation to each element.\n",
    "- Example: Convert a list of Celsius temperatures to Fahrenheit."
   ]
  },
  {
   "cell_type": "code",
   "execution_count": 162,
   "id": "4de94810-a667-4319-ac9d-ac44e93fec7e",
   "metadata": {},
   "outputs": [
    {
     "name": "stdout",
     "output_type": "stream",
     "text": [
      "[32.0, 50.0, 68.0, 86.0, 104.0]\n"
     ]
    }
   ],
   "source": [
    "celsius_temps = [0, 10, 20, 30, 40]\n",
    "fahrenheit_temps = map(lambda c: (c * 9/5) + 32, celsius_temps)\n",
    "print(list(fahrenheit_temps))"
   ]
  },
  {
   "cell_type": "markdown",
   "id": "3d8f31ee-e072-4592-94cb-97521032a0aa",
   "metadata": {},
   "source": [
    "### filter() Function:\n",
    "##### Data Filtering:\n",
    "- Scenario: You have a list of items, and you want to filter out certain elements based on a condition.\n",
    "- Example: Filter a list of numbers to keep only the even ones."
   ]
  },
  {
   "cell_type": "code",
   "execution_count": 164,
   "id": "c957d15b-aea8-49d6-894e-d36ca32c5e12",
   "metadata": {},
   "outputs": [
    {
     "name": "stdout",
     "output_type": "stream",
     "text": [
      "[2, 4, 6, 8, 10]\n"
     ]
    }
   ],
   "source": [
    "numbers = [1, 2, 3, 4, 5, 6, 7, 8, 9, 10]\n",
    "even_numbers = filter(lambda x: x % 2 == 0, numbers)\n",
    "print(list(even_numbers))"
   ]
  },
  {
   "cell_type": "markdown",
   "id": "1ac20e49-23b0-409e-a5a0-0e7250f2d783",
   "metadata": {},
   "source": [
    "### reduce() Function:\n",
    "##### Aggregation:\n",
    "- Scenario: You want to perform a cumulative operation on a sequence of values.\n",
    "- Example: Calculate the product of all elements in a list."
   ]
  },
  {
   "cell_type": "code",
   "execution_count": 166,
   "id": "f5fe6399-6f7c-44a5-b975-152937c356ec",
   "metadata": {},
   "outputs": [
    {
     "name": "stdout",
     "output_type": "stream",
     "text": [
      "120\n"
     ]
    }
   ],
   "source": [
    "from functools import reduce\n",
    "numbers = [1, 2, 3, 4, 5]\n",
    "product = reduce(lambda x, y: x * y, numbers)\n",
    "print(product)"
   ]
  },
  {
   "cell_type": "markdown",
   "id": "2d99157e-2090-44cb-8636-973b0ce8ca7b",
   "metadata": {},
   "source": [
    "### zip() Function:\n",
    "##### Combining Iterables:\n",
    "- Scenario: You have multiple lists or iterables and want to combine them element-wise.\n",
    "- Example: Combine lists of names and ages into pairs.\n"
   ]
  },
  {
   "cell_type": "code",
   "execution_count": 168,
   "id": "0a7f382a-38ad-462a-96cb-e1f3fa20ea83",
   "metadata": {},
   "outputs": [
    {
     "name": "stdout",
     "output_type": "stream",
     "text": [
      "[('Alice', 25), ('Bob', 30), ('Charlie', 22)]\n"
     ]
    }
   ],
   "source": [
    "names = [\"Alice\", \"Bob\", \"Charlie\"]\n",
    "ages = [25, 30, 22]\n",
    "name_age_pairs = zip(names, ages)\n",
    "print(list(name_age_pairs))"
   ]
  },
  {
   "cell_type": "markdown",
   "id": "0a7010d1-3598-48e2-88ae-e1262a3ea63b",
   "metadata": {},
   "source": [
    "## Check your Concepts\n",
    "\n",
    "Try answering the following questions to test your understanding of the topics covered in this notebook:\n",
    "\n",
    "1. What is a function?\n",
    "2. What are the benefits of using functions?\n",
    "3. What are some built-in functions in Python?\n",
    "4. How do you define a function in Python? Give an example.\n",
    "5. What is the body of a function?\n",
    "6. When are the statements in the body of a function executed?\n",
    "7. What is meant by calling or invoking a function? Give an example.\n",
    "8. What are function arguments? How are they useful?\n",
    "9. How do you store the result of a function in a variable?\n",
    "10. What is the purpose of the `return` keyword in Python?\n",
    "11. Can you return multiple values from a function?\n",
    "12. Can a `return` statement be used inside an `if` block or a `for` loop?\n",
    "13. Can the `return` keyword be used outside a function?\n",
    "14. What is scope in a programming region? \n",
    "15. How do you define a variable inside a function?\n",
    "16. What are local & global variables?\n",
    "17. Can you access the variables defined inside a function outside its body? Why or why not?\n",
    "18. What do you mean by the statement \"a function defines a scope within Python\"?\n",
    "19. Do for and while loops define a scope, like functions?\n",
    "20. Do if-else blocks define a scope, like functions?\n",
    "21. What are optional function arguments & default values? Give an example.\n",
    "22. Why should the required arguments appear before the optional arguments in a function definition?\n",
    "23. How do you invoke a function with named arguments? Illustrate with an example.\n",
    "24. Can you split a function invocation into multiple lines?\n",
    "25. Write a function that takes a number and rounds it up to the nearest integer.\n",
    "26. What is a docstring? Why is it useful?\n",
    "27. How do you display the docstring for a function?\n",
    "28. What are *args and **kwargs? How are they useful? Give an example.\n",
    "29. Can you define functions inside functions? \n",
    "30. What is function closure in Python? How is it useful? Give an example.\n",
    "31. What is recursion? Illustrate with an example.\n",
    "32. Can functions accept other functions as arguments? Illustrate with an example.\n",
    "33. Can functions return other functions as results? Illustrate with an example.\n",
    "34. What are decorators? How are they useful?\n",
    "35. Implement a function decorator which prints the arguments and result of wrapped functions.\n",
    "36. What are some in-built decorators in Python?\n",
    "37. Can you invoke a function inside the body of another function? Give an example.\n",
    "38. What is the single responsibility principle, and how does it apply while writing functions?\n",
    "39. What some characteristics of well-written functions?\n",
    "40. Can you use if statements or while loops within a function? Illustrate with an example.\n",
    "41. Compare the use of lambda functions in sorted(), map(), filter(), reduce(), and accumulate() functions and their different use cases.\n",
    "42. Check out the use of command line arguments in Python using `sys.argv[]`, and `getopt.getopt()`\n",
    "43. Decorators can be thought of as functions which modify the functionality of another function. They help to make your code shorter and more \"Pythonic\". Search and write down sample code snippets to understand Decorators in Python."
   ]
  },
  {
   "cell_type": "code",
   "execution_count": null,
   "id": "fa0e4bc5-e9d3-44e7-9edb-93d95dc9f25d",
   "metadata": {},
   "outputs": [],
   "source": []
  }
 ],
 "metadata": {
  "kernelspec": {
   "display_name": "Python 3 (ipykernel)",
   "language": "python",
   "name": "python3"
  },
  "language_info": {
   "codemirror_mode": {
    "name": "ipython",
    "version": 3
   },
   "file_extension": ".py",
   "mimetype": "text/x-python",
   "name": "python",
   "nbconvert_exporter": "python",
   "pygments_lexer": "ipython3",
   "version": "3.12.4"
  }
 },
 "nbformat": 4,
 "nbformat_minor": 5
}
